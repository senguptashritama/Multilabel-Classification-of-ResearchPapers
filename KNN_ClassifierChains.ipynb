{
  "nbformat": 4,
  "nbformat_minor": 0,
  "metadata": {
    "colab": {
      "provenance": [],
      "authorship_tag": "ABX9TyM5VL3h1ze1C3G8b2M1P/4X",
      "include_colab_link": true
    },
    "kernelspec": {
      "name": "python3",
      "display_name": "Python 3"
    },
    "language_info": {
      "name": "python"
    }
  },
  "cells": [
    {
      "cell_type": "markdown",
      "metadata": {
        "id": "view-in-github",
        "colab_type": "text"
      },
      "source": [
        "<a href=\"https://colab.research.google.com/github/senguptashritama/Multilabel-Classification-of-ResearchPapers/blob/main/KNN_ClassifierChains.ipynb\" target=\"_parent\"><img src=\"https://colab.research.google.com/assets/colab-badge.svg\" alt=\"Open In Colab\"/></a>"
      ]
    },
    {
      "cell_type": "markdown",
      "source": [
        "### Loading required libraries and preprocessed dataset"
      ],
      "metadata": {
        "id": "zTB0nrzfyvEE"
      }
    },
    {
      "cell_type": "code",
      "source": [
        "! pip install scikit-multilearn"
      ],
      "metadata": {
        "colab": {
          "base_uri": "https://localhost:8080/"
        },
        "id": "GAFH3ukxMhaf",
        "outputId": "c4e6a6bd-88fc-4c91-ff05-a9f79bc38db3"
      },
      "execution_count": null,
      "outputs": [
        {
          "output_type": "stream",
          "name": "stdout",
          "text": [
            "Collecting scikit-multilearn\n",
            "  Downloading scikit_multilearn-0.2.0-py3-none-any.whl (89 kB)\n",
            "\u001b[2K     \u001b[90m━━━━━━━━━━━━━━━━━━━━━━━━━━━━━━━━━━━━━━━━\u001b[0m \u001b[32m89.4/89.4 kB\u001b[0m \u001b[31m1.1 MB/s\u001b[0m eta \u001b[36m0:00:00\u001b[0m\n",
            "\u001b[?25hInstalling collected packages: scikit-multilearn\n",
            "Successfully installed scikit-multilearn-0.2.0\n"
          ]
        }
      ]
    },
    {
      "cell_type": "code",
      "execution_count": null,
      "metadata": {
        "id": "7SHBUiPUJc8V"
      },
      "outputs": [],
      "source": [
        "import gensim\n",
        "import numpy as np\n",
        "import pandas as pd\n",
        "import matplotlib.pyplot as plt\n",
        "from gensim.models import Word2Vec\n",
        "from nltk.tokenize import word_tokenize\n",
        "from imblearn.over_sampling import SMOTE\n",
        "from sklearn.neighbors import KNeighborsClassifier\n",
        "from sklearn.model_selection import train_test_split\n",
        "from sklearn.preprocessing import MultiLabelBinarizer\n",
        "from skmultilearn.problem_transform import ClassifierChain\n",
        "from sklearn.metrics import classification_report, accuracy_score,f1_score. confusion_matrix, roc_curve, roc_auc_score, auc"
      ]
    },
    {
      "cell_type": "code",
      "source": [
        "import nltk\n",
        "nltk.download('punkt')"
      ],
      "metadata": {
        "colab": {
          "base_uri": "https://localhost:8080/"
        },
        "id": "jOBOfN1xKAcr",
        "outputId": "0becdea5-5e6b-4a69-8692-154618b6502d"
      },
      "execution_count": null,
      "outputs": [
        {
          "output_type": "stream",
          "name": "stderr",
          "text": [
            "[nltk_data] Downloading package punkt to /root/nltk_data...\n",
            "[nltk_data]   Unzipping tokenizers/punkt.zip.\n"
          ]
        },
        {
          "output_type": "execute_result",
          "data": {
            "text/plain": [
              "True"
            ]
          },
          "metadata": {},
          "execution_count": 2
        }
      ]
    },
    {
      "cell_type": "code",
      "source": [
        "from google.colab import drive\n",
        "drive.mount('/content/drive')"
      ],
      "metadata": {
        "colab": {
          "base_uri": "https://localhost:8080/"
        },
        "id": "rAL_e5OWKUvU",
        "outputId": "1229cc6e-4612-4f1a-faa7-fabbf3e32281"
      },
      "execution_count": null,
      "outputs": [
        {
          "output_type": "stream",
          "name": "stdout",
          "text": [
            "Mounted at /content/drive\n"
          ]
        }
      ]
    },
    {
      "cell_type": "code",
      "source": [
        "df = pd.read_csv(\"/content/drive/MyDrive/archive (4)/filtered_data.csv\")\n",
        "df.head()"
      ],
      "metadata": {
        "colab": {
          "base_uri": "https://localhost:8080/",
          "height": 206
        },
        "id": "2j3UnWKgKVYS",
        "outputId": "eb24e2b8-5e31-48e1-e980-22c38fc8be6a"
      },
      "execution_count": null,
      "outputs": [
        {
          "output_type": "execute_result",
          "data": {
            "text/plain": [
              "                                              titles  \\\n",
              "0  survey semantic stereo match   semantic depth ...   \n",
              "1  futureai   guide principle consensus recommend...   \n",
              "2  enforce mutual consistency hard region semisup...   \n",
              "3  parameter decoupling strategy semisupervise 3d...   \n",
              "4  backgroundforeground segmentation interior sen...   \n",
              "\n",
              "                                           summaries  \\\n",
              "0  stereo match one widely use technique infer de...   \n",
              "1  recent advancement artificial intelligence   a...   \n",
              "2  paper   propose novel mutual consistency netwo...   \n",
              "3  consistency training prove advanced semisuperv...   \n",
              "4  ensure safety automate drive   correct percept...   \n",
              "\n",
              "                         terms  \n",
              "0           ['cs.CV', 'cs.LG']  \n",
              "1  ['cs.CV', 'cs.AI', 'cs.LG']  \n",
              "2           ['cs.CV', 'cs.AI']  \n",
              "3                    ['cs.CV']  \n",
              "4           ['cs.CV', 'cs.LG']  "
            ],
            "text/html": [
              "\n",
              "  <div id=\"df-c439e267-535f-441c-8921-fc541b0e89e4\" class=\"colab-df-container\">\n",
              "    <div>\n",
              "<style scoped>\n",
              "    .dataframe tbody tr th:only-of-type {\n",
              "        vertical-align: middle;\n",
              "    }\n",
              "\n",
              "    .dataframe tbody tr th {\n",
              "        vertical-align: top;\n",
              "    }\n",
              "\n",
              "    .dataframe thead th {\n",
              "        text-align: right;\n",
              "    }\n",
              "</style>\n",
              "<table border=\"1\" class=\"dataframe\">\n",
              "  <thead>\n",
              "    <tr style=\"text-align: right;\">\n",
              "      <th></th>\n",
              "      <th>titles</th>\n",
              "      <th>summaries</th>\n",
              "      <th>terms</th>\n",
              "    </tr>\n",
              "  </thead>\n",
              "  <tbody>\n",
              "    <tr>\n",
              "      <th>0</th>\n",
              "      <td>survey semantic stereo match   semantic depth ...</td>\n",
              "      <td>stereo match one widely use technique infer de...</td>\n",
              "      <td>['cs.CV', 'cs.LG']</td>\n",
              "    </tr>\n",
              "    <tr>\n",
              "      <th>1</th>\n",
              "      <td>futureai   guide principle consensus recommend...</td>\n",
              "      <td>recent advancement artificial intelligence   a...</td>\n",
              "      <td>['cs.CV', 'cs.AI', 'cs.LG']</td>\n",
              "    </tr>\n",
              "    <tr>\n",
              "      <th>2</th>\n",
              "      <td>enforce mutual consistency hard region semisup...</td>\n",
              "      <td>paper   propose novel mutual consistency netwo...</td>\n",
              "      <td>['cs.CV', 'cs.AI']</td>\n",
              "    </tr>\n",
              "    <tr>\n",
              "      <th>3</th>\n",
              "      <td>parameter decoupling strategy semisupervise 3d...</td>\n",
              "      <td>consistency training prove advanced semisuperv...</td>\n",
              "      <td>['cs.CV']</td>\n",
              "    </tr>\n",
              "    <tr>\n",
              "      <th>4</th>\n",
              "      <td>backgroundforeground segmentation interior sen...</td>\n",
              "      <td>ensure safety automate drive   correct percept...</td>\n",
              "      <td>['cs.CV', 'cs.LG']</td>\n",
              "    </tr>\n",
              "  </tbody>\n",
              "</table>\n",
              "</div>\n",
              "    <div class=\"colab-df-buttons\">\n",
              "\n",
              "  <div class=\"colab-df-container\">\n",
              "    <button class=\"colab-df-convert\" onclick=\"convertToInteractive('df-c439e267-535f-441c-8921-fc541b0e89e4')\"\n",
              "            title=\"Convert this dataframe to an interactive table.\"\n",
              "            style=\"display:none;\">\n",
              "\n",
              "  <svg xmlns=\"http://www.w3.org/2000/svg\" height=\"24px\" viewBox=\"0 -960 960 960\">\n",
              "    <path d=\"M120-120v-720h720v720H120Zm60-500h600v-160H180v160Zm220 220h160v-160H400v160Zm0 220h160v-160H400v160ZM180-400h160v-160H180v160Zm440 0h160v-160H620v160ZM180-180h160v-160H180v160Zm440 0h160v-160H620v160Z\"/>\n",
              "  </svg>\n",
              "    </button>\n",
              "\n",
              "  <style>\n",
              "    .colab-df-container {\n",
              "      display:flex;\n",
              "      gap: 12px;\n",
              "    }\n",
              "\n",
              "    .colab-df-convert {\n",
              "      background-color: #E8F0FE;\n",
              "      border: none;\n",
              "      border-radius: 50%;\n",
              "      cursor: pointer;\n",
              "      display: none;\n",
              "      fill: #1967D2;\n",
              "      height: 32px;\n",
              "      padding: 0 0 0 0;\n",
              "      width: 32px;\n",
              "    }\n",
              "\n",
              "    .colab-df-convert:hover {\n",
              "      background-color: #E2EBFA;\n",
              "      box-shadow: 0px 1px 2px rgba(60, 64, 67, 0.3), 0px 1px 3px 1px rgba(60, 64, 67, 0.15);\n",
              "      fill: #174EA6;\n",
              "    }\n",
              "\n",
              "    .colab-df-buttons div {\n",
              "      margin-bottom: 4px;\n",
              "    }\n",
              "\n",
              "    [theme=dark] .colab-df-convert {\n",
              "      background-color: #3B4455;\n",
              "      fill: #D2E3FC;\n",
              "    }\n",
              "\n",
              "    [theme=dark] .colab-df-convert:hover {\n",
              "      background-color: #434B5C;\n",
              "      box-shadow: 0px 1px 3px 1px rgba(0, 0, 0, 0.15);\n",
              "      filter: drop-shadow(0px 1px 2px rgba(0, 0, 0, 0.3));\n",
              "      fill: #FFFFFF;\n",
              "    }\n",
              "  </style>\n",
              "\n",
              "    <script>\n",
              "      const buttonEl =\n",
              "        document.querySelector('#df-c439e267-535f-441c-8921-fc541b0e89e4 button.colab-df-convert');\n",
              "      buttonEl.style.display =\n",
              "        google.colab.kernel.accessAllowed ? 'block' : 'none';\n",
              "\n",
              "      async function convertToInteractive(key) {\n",
              "        const element = document.querySelector('#df-c439e267-535f-441c-8921-fc541b0e89e4');\n",
              "        const dataTable =\n",
              "          await google.colab.kernel.invokeFunction('convertToInteractive',\n",
              "                                                    [key], {});\n",
              "        if (!dataTable) return;\n",
              "\n",
              "        const docLinkHtml = 'Like what you see? Visit the ' +\n",
              "          '<a target=\"_blank\" href=https://colab.research.google.com/notebooks/data_table.ipynb>data table notebook</a>'\n",
              "          + ' to learn more about interactive tables.';\n",
              "        element.innerHTML = '';\n",
              "        dataTable['output_type'] = 'display_data';\n",
              "        await google.colab.output.renderOutput(dataTable, element);\n",
              "        const docLink = document.createElement('div');\n",
              "        docLink.innerHTML = docLinkHtml;\n",
              "        element.appendChild(docLink);\n",
              "      }\n",
              "    </script>\n",
              "  </div>\n",
              "\n",
              "\n",
              "<div id=\"df-e187d476-65d3-469a-8e02-031c95e7bfca\">\n",
              "  <button class=\"colab-df-quickchart\" onclick=\"quickchart('df-e187d476-65d3-469a-8e02-031c95e7bfca')\"\n",
              "            title=\"Suggest charts\"\n",
              "            style=\"display:none;\">\n",
              "\n",
              "<svg xmlns=\"http://www.w3.org/2000/svg\" height=\"24px\"viewBox=\"0 0 24 24\"\n",
              "     width=\"24px\">\n",
              "    <g>\n",
              "        <path d=\"M19 3H5c-1.1 0-2 .9-2 2v14c0 1.1.9 2 2 2h14c1.1 0 2-.9 2-2V5c0-1.1-.9-2-2-2zM9 17H7v-7h2v7zm4 0h-2V7h2v10zm4 0h-2v-4h2v4z\"/>\n",
              "    </g>\n",
              "</svg>\n",
              "  </button>\n",
              "\n",
              "<style>\n",
              "  .colab-df-quickchart {\n",
              "      --bg-color: #E8F0FE;\n",
              "      --fill-color: #1967D2;\n",
              "      --hover-bg-color: #E2EBFA;\n",
              "      --hover-fill-color: #174EA6;\n",
              "      --disabled-fill-color: #AAA;\n",
              "      --disabled-bg-color: #DDD;\n",
              "  }\n",
              "\n",
              "  [theme=dark] .colab-df-quickchart {\n",
              "      --bg-color: #3B4455;\n",
              "      --fill-color: #D2E3FC;\n",
              "      --hover-bg-color: #434B5C;\n",
              "      --hover-fill-color: #FFFFFF;\n",
              "      --disabled-bg-color: #3B4455;\n",
              "      --disabled-fill-color: #666;\n",
              "  }\n",
              "\n",
              "  .colab-df-quickchart {\n",
              "    background-color: var(--bg-color);\n",
              "    border: none;\n",
              "    border-radius: 50%;\n",
              "    cursor: pointer;\n",
              "    display: none;\n",
              "    fill: var(--fill-color);\n",
              "    height: 32px;\n",
              "    padding: 0;\n",
              "    width: 32px;\n",
              "  }\n",
              "\n",
              "  .colab-df-quickchart:hover {\n",
              "    background-color: var(--hover-bg-color);\n",
              "    box-shadow: 0 1px 2px rgba(60, 64, 67, 0.3), 0 1px 3px 1px rgba(60, 64, 67, 0.15);\n",
              "    fill: var(--button-hover-fill-color);\n",
              "  }\n",
              "\n",
              "  .colab-df-quickchart-complete:disabled,\n",
              "  .colab-df-quickchart-complete:disabled:hover {\n",
              "    background-color: var(--disabled-bg-color);\n",
              "    fill: var(--disabled-fill-color);\n",
              "    box-shadow: none;\n",
              "  }\n",
              "\n",
              "  .colab-df-spinner {\n",
              "    border: 2px solid var(--fill-color);\n",
              "    border-color: transparent;\n",
              "    border-bottom-color: var(--fill-color);\n",
              "    animation:\n",
              "      spin 1s steps(1) infinite;\n",
              "  }\n",
              "\n",
              "  @keyframes spin {\n",
              "    0% {\n",
              "      border-color: transparent;\n",
              "      border-bottom-color: var(--fill-color);\n",
              "      border-left-color: var(--fill-color);\n",
              "    }\n",
              "    20% {\n",
              "      border-color: transparent;\n",
              "      border-left-color: var(--fill-color);\n",
              "      border-top-color: var(--fill-color);\n",
              "    }\n",
              "    30% {\n",
              "      border-color: transparent;\n",
              "      border-left-color: var(--fill-color);\n",
              "      border-top-color: var(--fill-color);\n",
              "      border-right-color: var(--fill-color);\n",
              "    }\n",
              "    40% {\n",
              "      border-color: transparent;\n",
              "      border-right-color: var(--fill-color);\n",
              "      border-top-color: var(--fill-color);\n",
              "    }\n",
              "    60% {\n",
              "      border-color: transparent;\n",
              "      border-right-color: var(--fill-color);\n",
              "    }\n",
              "    80% {\n",
              "      border-color: transparent;\n",
              "      border-right-color: var(--fill-color);\n",
              "      border-bottom-color: var(--fill-color);\n",
              "    }\n",
              "    90% {\n",
              "      border-color: transparent;\n",
              "      border-bottom-color: var(--fill-color);\n",
              "    }\n",
              "  }\n",
              "</style>\n",
              "\n",
              "  <script>\n",
              "    async function quickchart(key) {\n",
              "      const quickchartButtonEl =\n",
              "        document.querySelector('#' + key + ' button');\n",
              "      quickchartButtonEl.disabled = true;  // To prevent multiple clicks.\n",
              "      quickchartButtonEl.classList.add('colab-df-spinner');\n",
              "      try {\n",
              "        const charts = await google.colab.kernel.invokeFunction(\n",
              "            'suggestCharts', [key], {});\n",
              "      } catch (error) {\n",
              "        console.error('Error during call to suggestCharts:', error);\n",
              "      }\n",
              "      quickchartButtonEl.classList.remove('colab-df-spinner');\n",
              "      quickchartButtonEl.classList.add('colab-df-quickchart-complete');\n",
              "    }\n",
              "    (() => {\n",
              "      let quickchartButtonEl =\n",
              "        document.querySelector('#df-e187d476-65d3-469a-8e02-031c95e7bfca button');\n",
              "      quickchartButtonEl.style.display =\n",
              "        google.colab.kernel.accessAllowed ? 'block' : 'none';\n",
              "    })();\n",
              "  </script>\n",
              "</div>\n",
              "\n",
              "    </div>\n",
              "  </div>\n"
            ],
            "application/vnd.google.colaboratory.intrinsic+json": {
              "type": "dataframe",
              "variable_name": "df",
              "summary": "{\n  \"name\": \"df\",\n  \"rows\": 28208,\n  \"fields\": [\n    {\n      \"column\": \"titles\",\n      \"properties\": {\n        \"dtype\": \"string\",\n        \"num_unique_values\": 28192,\n        \"samples\": [\n          \"recovery point cloud surface   application image reconstruction\",\n          \"surfacenet   adversarial svbrdf estimation single image\",\n          \"code distribute multiagent reinforcement learning\"\n        ],\n        \"semantic_type\": \"\",\n        \"description\": \"\"\n      }\n    },\n    {\n      \"column\": \"summaries\",\n      \"properties\": {\n        \"dtype\": \"string\",\n        \"num_unique_values\": 28197,\n        \"samples\": [\n          \"work propose generalpurpose   fullyconvolutional network architecture efficiently process largescale 3d datum   one strike characteristic approach ability process unorganize 3d representation point clouds input   transforming internally order structure process via 3d convolution   contrast conventional approach maintain either unorganized organize representation   input output   approach advantage operating memory efficient input datum representation time exploit natural structure convolutional operation avoid redundant computing store spatial information network   network eliminate need pre post process raw sensor datum    together fullyconvolutional nature network   make endtoend method able process point clouds huge space even entire room 200k point   another advantage network produce either order output map prediction directly onto input cloud   thus make suitable generalpurpose point cloud descriptor applicable many 3d task   demonstrate network ability effectively learn lowlevel feature well complex compositional relationship evaluate benchmark dataset semantic voxel segmentation   semantic part segmentation 3d scene captioning\",\n          \"work   study adaptive dataguide traffic planning control use reinforcement learning   rl    shift plain use classic method towards stateoftheart deep rl community   embe several recent technique algorithm improve original deep qnetwork   dqn   discrete control discuss trafficrelate interpretation follow   propose novel dqnbase algorithm traffic control   call tcdqn   tool fast reliable traffic decisionmake   introduce new form reward function discuss use illustrative example comparison traditional traffic control method\",\n          \"transfer knowledge across task improve dataefficiency one open key challenge field global blackbox optimization   readily available algorithm typically design universal optimizer   therefore   often suboptimal specific task   propose novel transfer learn method obtain customize optimizer within wellestablished framework bayesian optimization   allow algorithm utilize proven generalization capability gaussian process   use reinforcement learning metatrain acquisition function   af   set related task   propose method learn extract implicit structural information exploit improve dataefficiency   present experiment simulationtoreal transfer task well several synthetic function two hyperparameter search problem   result show algorithm   1   automatically identify structural property objective function available source task simulation    2   perform favourably setting scarse abundant source datum    3   fall back performance level general afs particular structure present\"\n        ],\n        \"semantic_type\": \"\",\n        \"description\": \"\"\n      }\n    },\n    {\n      \"column\": \"terms\",\n      \"properties\": {\n        \"dtype\": \"category\",\n        \"num_unique_values\": 38,\n        \"samples\": [\n          \"['stat.ML', 'cs.AI']\",\n          \"['stat.ML', 'cs.LG', 'eess.IV']\",\n          \"['cs.CV', 'cs.LG', 'eess.IV']\"\n        ],\n        \"semantic_type\": \"\",\n        \"description\": \"\"\n      }\n    }\n  ]\n}"
            }
          },
          "metadata": {},
          "execution_count": 4
        }
      ]
    },
    {
      "cell_type": "markdown",
      "source": [
        "### Creating word embedding of the input text (titles and summaries) using Word2Vec"
      ],
      "metadata": {
        "id": "nStgAAKPy6CS"
      }
    },
    {
      "cell_type": "code",
      "source": [
        "df['text'] = df['titles'] + ' ' + df['summaries']\n",
        "\n",
        "df['tokens'] = df['text'].apply(word_tokenize)\n",
        "model = Word2Vec(sentences= df['tokens'], vector_size=100, window=5, min_count=1, sg=0)\n",
        "model.save(\"word2vec_arxiv.model\")"
      ],
      "metadata": {
        "id": "E_YKH4yLKgIp"
      },
      "execution_count": null,
      "outputs": []
    },
    {
      "cell_type": "code",
      "source": [
        "word2vec_model = Word2Vec.load(\"word2vec_arxiv.model\")\n",
        "\n",
        "def text_to_vectors(text, word2vec_model):\n",
        "    words = text.split()\n",
        "    vector = np.zeros(word2vec_model.vector_size)\n",
        "    for word in words:\n",
        "        if word in word2vec_model.wv:\n",
        "            vector += word2vec_model.wv[word]\n",
        "    if np.count_nonzero(vector) == 0:\n",
        "        return vector\n",
        "    else:\n",
        "        return vector / np.linalg.norm(vector)\n",
        "\n",
        "df[\"titles\"] = df[\"titles\"].apply(lambda x: text_to_vectors(x, word2vec_model))\n",
        "df[\"summaries\"] = df[\"summaries\"].apply(lambda x: text_to_vectors(x, word2vec_model))"
      ],
      "metadata": {
        "id": "ppGUBRQeKkmz"
      },
      "execution_count": null,
      "outputs": []
    },
    {
      "cell_type": "markdown",
      "source": [
        "### Encoding target variable using MultilabelBinarizer"
      ],
      "metadata": {
        "id": "ngYb03k1U76W"
      }
    },
    {
      "cell_type": "code",
      "source": [
        "terms_split = df['terms'].str.strip('][').str.split(', ')\n",
        "\n",
        "mlb = MultiLabelBinarizer()\n",
        "y_encoded = pd.DataFrame(mlb.fit_transform(terms_split), columns=mlb.classes_)"
      ],
      "metadata": {
        "id": "JmrrcvUbKlU_"
      },
      "execution_count": null,
      "outputs": []
    },
    {
      "cell_type": "markdown",
      "source": [
        "### Merging the encoded columns to one dataframe"
      ],
      "metadata": {
        "id": "O0oQWAaEzDWg"
      }
    },
    {
      "cell_type": "code",
      "source": [
        "combined_data = pd.concat([df, y_encoded], axis=1)"
      ],
      "metadata": {
        "id": "cYJgqxXdKsNH"
      },
      "execution_count": null,
      "outputs": []
    },
    {
      "cell_type": "markdown",
      "source": [
        "### Preparing predictor variables (X) and target variables (Y) for model training"
      ],
      "metadata": {
        "id": "FY1exVk5zN8v"
      }
    },
    {
      "cell_type": "code",
      "source": [
        "x_data = combined_data[['titles','summaries']].values\n",
        "X =  np.array(x_data.tolist())\n",
        "X = X.reshape(X.shape[0], -1)"
      ],
      "metadata": {
        "id": "Zvg79dZPK1kJ"
      },
      "execution_count": null,
      "outputs": []
    },
    {
      "cell_type": "code",
      "source": [
        "y_data = combined_data[['cs.AI','cs.CV','cs.LG','eess.IV','stat.ML']].values\n",
        "y =  np.array(y_data.tolist())"
      ],
      "metadata": {
        "id": "D1A9T0gCK4aI"
      },
      "execution_count": null,
      "outputs": []
    },
    {
      "cell_type": "code",
      "source": [
        "X_train, X_test, y_train, y_test = train_test_split(X, y, test_size=0.2, random_state=42)"
      ],
      "metadata": {
        "id": "EbnnsW8NK-I_"
      },
      "execution_count": null,
      "outputs": []
    },
    {
      "cell_type": "markdown",
      "source": [
        "### Calculating costs based on class frequencies"
      ],
      "metadata": {
        "id": "U6Tp370bzXnr"
      }
    },
    {
      "cell_type": "code",
      "source": [
        "class_frequencies = y_train.mean(axis=0)\n",
        "label_costs = 1 / class_frequencies"
      ],
      "metadata": {
        "id": "WNLSr1WOLA_t"
      },
      "execution_count": null,
      "outputs": []
    },
    {
      "cell_type": "markdown",
      "source": [
        "### Model Training"
      ],
      "metadata": {
        "id": "Z2pXBGqIzdTk"
      }
    },
    {
      "cell_type": "markdown",
      "source": [
        "A KNeighborsClassifier with 10 neighbors is defined as the base classifier.\n",
        "ClassifierChain is then applied to create a multi-label classifier using the base classifier.\n",
        "Finally, the multi-label classifier is trained on the provided training data (X_train, y_train) using the fit method."
      ],
      "metadata": {
        "id": "VkMIG2PCzkz_"
      }
    },
    {
      "cell_type": "code",
      "source": [
        "base_classifier = KNeighborsClassifier(n_neighbors=10)\n",
        "mlknn_classifier = ClassifierChain(base_classifier)\n",
        "\n",
        "mlknn_classifier.fit(X_train, y_train)"
      ],
      "metadata": {
        "colab": {
          "base_uri": "https://localhost:8080/",
          "height": 117
        },
        "id": "ASlvPj3YLSw6",
        "outputId": "3b636536-a1aa-4839-8ce9-4109e9654062"
      },
      "execution_count": null,
      "outputs": [
        {
          "output_type": "execute_result",
          "data": {
            "text/plain": [
              "ClassifierChain(classifier=KNeighborsClassifier(n_neighbors=10),\n",
              "                require_dense=[True, True])"
            ],
            "text/html": [
              "<style>#sk-container-id-1 {color: black;background-color: white;}#sk-container-id-1 pre{padding: 0;}#sk-container-id-1 div.sk-toggleable {background-color: white;}#sk-container-id-1 label.sk-toggleable__label {cursor: pointer;display: block;width: 100%;margin-bottom: 0;padding: 0.3em;box-sizing: border-box;text-align: center;}#sk-container-id-1 label.sk-toggleable__label-arrow:before {content: \"▸\";float: left;margin-right: 0.25em;color: #696969;}#sk-container-id-1 label.sk-toggleable__label-arrow:hover:before {color: black;}#sk-container-id-1 div.sk-estimator:hover label.sk-toggleable__label-arrow:before {color: black;}#sk-container-id-1 div.sk-toggleable__content {max-height: 0;max-width: 0;overflow: hidden;text-align: left;background-color: #f0f8ff;}#sk-container-id-1 div.sk-toggleable__content pre {margin: 0.2em;color: black;border-radius: 0.25em;background-color: #f0f8ff;}#sk-container-id-1 input.sk-toggleable__control:checked~div.sk-toggleable__content {max-height: 200px;max-width: 100%;overflow: auto;}#sk-container-id-1 input.sk-toggleable__control:checked~label.sk-toggleable__label-arrow:before {content: \"▾\";}#sk-container-id-1 div.sk-estimator input.sk-toggleable__control:checked~label.sk-toggleable__label {background-color: #d4ebff;}#sk-container-id-1 div.sk-label input.sk-toggleable__control:checked~label.sk-toggleable__label {background-color: #d4ebff;}#sk-container-id-1 input.sk-hidden--visually {border: 0;clip: rect(1px 1px 1px 1px);clip: rect(1px, 1px, 1px, 1px);height: 1px;margin: -1px;overflow: hidden;padding: 0;position: absolute;width: 1px;}#sk-container-id-1 div.sk-estimator {font-family: monospace;background-color: #f0f8ff;border: 1px dotted black;border-radius: 0.25em;box-sizing: border-box;margin-bottom: 0.5em;}#sk-container-id-1 div.sk-estimator:hover {background-color: #d4ebff;}#sk-container-id-1 div.sk-parallel-item::after {content: \"\";width: 100%;border-bottom: 1px solid gray;flex-grow: 1;}#sk-container-id-1 div.sk-label:hover label.sk-toggleable__label {background-color: #d4ebff;}#sk-container-id-1 div.sk-serial::before {content: \"\";position: absolute;border-left: 1px solid gray;box-sizing: border-box;top: 0;bottom: 0;left: 50%;z-index: 0;}#sk-container-id-1 div.sk-serial {display: flex;flex-direction: column;align-items: center;background-color: white;padding-right: 0.2em;padding-left: 0.2em;position: relative;}#sk-container-id-1 div.sk-item {position: relative;z-index: 1;}#sk-container-id-1 div.sk-parallel {display: flex;align-items: stretch;justify-content: center;background-color: white;position: relative;}#sk-container-id-1 div.sk-item::before, #sk-container-id-1 div.sk-parallel-item::before {content: \"\";position: absolute;border-left: 1px solid gray;box-sizing: border-box;top: 0;bottom: 0;left: 50%;z-index: -1;}#sk-container-id-1 div.sk-parallel-item {display: flex;flex-direction: column;z-index: 1;position: relative;background-color: white;}#sk-container-id-1 div.sk-parallel-item:first-child::after {align-self: flex-end;width: 50%;}#sk-container-id-1 div.sk-parallel-item:last-child::after {align-self: flex-start;width: 50%;}#sk-container-id-1 div.sk-parallel-item:only-child::after {width: 0;}#sk-container-id-1 div.sk-dashed-wrapped {border: 1px dashed gray;margin: 0 0.4em 0.5em 0.4em;box-sizing: border-box;padding-bottom: 0.4em;background-color: white;}#sk-container-id-1 div.sk-label label {font-family: monospace;font-weight: bold;display: inline-block;line-height: 1.2em;}#sk-container-id-1 div.sk-label-container {text-align: center;}#sk-container-id-1 div.sk-container {/* jupyter's `normalize.less` sets `[hidden] { display: none; }` but bootstrap.min.css set `[hidden] { display: none !important; }` so we also need the `!important` here to be able to override the default hidden behavior on the sphinx rendered scikit-learn.org. See: https://github.com/scikit-learn/scikit-learn/issues/21755 */display: inline-block !important;position: relative;}#sk-container-id-1 div.sk-text-repr-fallback {display: none;}</style><div id=\"sk-container-id-1\" class=\"sk-top-container\"><div class=\"sk-text-repr-fallback\"><pre>ClassifierChain(classifier=KNeighborsClassifier(n_neighbors=10),\n",
              "                require_dense=[True, True])</pre><b>In a Jupyter environment, please rerun this cell to show the HTML representation or trust the notebook. <br />On GitHub, the HTML representation is unable to render, please try loading this page with nbviewer.org.</b></div><div class=\"sk-container\" hidden><div class=\"sk-item sk-dashed-wrapped\"><div class=\"sk-label-container\"><div class=\"sk-label sk-toggleable\"><input class=\"sk-toggleable__control sk-hidden--visually\" id=\"sk-estimator-id-1\" type=\"checkbox\" ><label for=\"sk-estimator-id-1\" class=\"sk-toggleable__label sk-toggleable__label-arrow\">ClassifierChain</label><div class=\"sk-toggleable__content\"><pre>ClassifierChain(classifier=KNeighborsClassifier(n_neighbors=10),\n",
              "                require_dense=[True, True])</pre></div></div></div><div class=\"sk-parallel\"><div class=\"sk-parallel-item\"><div class=\"sk-item\"><div class=\"sk-label-container\"><div class=\"sk-label sk-toggleable\"><input class=\"sk-toggleable__control sk-hidden--visually\" id=\"sk-estimator-id-2\" type=\"checkbox\" ><label for=\"sk-estimator-id-2\" class=\"sk-toggleable__label sk-toggleable__label-arrow\">classifier: KNeighborsClassifier</label><div class=\"sk-toggleable__content\"><pre>KNeighborsClassifier(n_neighbors=10)</pre></div></div></div><div class=\"sk-serial\"><div class=\"sk-item\"><div class=\"sk-estimator sk-toggleable\"><input class=\"sk-toggleable__control sk-hidden--visually\" id=\"sk-estimator-id-3\" type=\"checkbox\" ><label for=\"sk-estimator-id-3\" class=\"sk-toggleable__label sk-toggleable__label-arrow\">KNeighborsClassifier</label><div class=\"sk-toggleable__content\"><pre>KNeighborsClassifier(n_neighbors=10)</pre></div></div></div></div></div></div></div></div></div></div>"
            ]
          },
          "metadata": {},
          "execution_count": 16
        }
      ]
    },
    {
      "cell_type": "code",
      "source": [
        "y_pred = mlknn_classifier.predict(X_test)\n",
        "y_pred"
      ],
      "metadata": {
        "colab": {
          "base_uri": "https://localhost:8080/"
        },
        "id": "qyZkQF8CLebq",
        "outputId": "99cdf87c-0056-4fb3-8129-de296aab63a7"
      },
      "execution_count": null,
      "outputs": [
        {
          "output_type": "execute_result",
          "data": {
            "text/plain": [
              "<5642x5 sparse matrix of type '<class 'numpy.float64'>'\n",
              "\twith 7782 stored elements in Compressed Sparse Column format>"
            ]
          },
          "metadata": {},
          "execution_count": 17
        }
      ]
    },
    {
      "cell_type": "code",
      "source": [
        "y_pred_dense = y_pred.toarray()\n",
        "\n",
        "\n",
        "y_pred_list = y_pred_dense.tolist()\n",
        "for i in range(min(20, y_pred.shape[0])):\n",
        "    print(\"Sample\", i+1, \"Predicted Labels:\", y_pred_list[i])"
      ],
      "metadata": {
        "colab": {
          "base_uri": "https://localhost:8080/"
        },
        "id": "3CEu2MSGLgr8",
        "outputId": "9c1a1623-9735-4c33-e5af-ed059413b902"
      },
      "execution_count": null,
      "outputs": [
        {
          "output_type": "stream",
          "name": "stdout",
          "text": [
            "Sample 1 Predicted Labels: [0.0, 0.0, 1.0, 0.0, 1.0]\n",
            "Sample 2 Predicted Labels: [0.0, 1.0, 0.0, 0.0, 0.0]\n",
            "Sample 3 Predicted Labels: [0.0, 0.0, 1.0, 0.0, 1.0]\n",
            "Sample 4 Predicted Labels: [0.0, 1.0, 0.0, 0.0, 0.0]\n",
            "Sample 5 Predicted Labels: [0.0, 1.0, 0.0, 0.0, 0.0]\n",
            "Sample 6 Predicted Labels: [0.0, 1.0, 0.0, 0.0, 0.0]\n",
            "Sample 7 Predicted Labels: [0.0, 0.0, 1.0, 0.0, 1.0]\n",
            "Sample 8 Predicted Labels: [0.0, 1.0, 0.0, 0.0, 0.0]\n",
            "Sample 9 Predicted Labels: [0.0, 0.0, 1.0, 0.0, 1.0]\n",
            "Sample 10 Predicted Labels: [0.0, 1.0, 0.0, 0.0, 0.0]\n",
            "Sample 11 Predicted Labels: [0.0, 1.0, 0.0, 0.0, 0.0]\n",
            "Sample 12 Predicted Labels: [0.0, 0.0, 1.0, 0.0, 1.0]\n",
            "Sample 13 Predicted Labels: [0.0, 1.0, 0.0, 0.0, 0.0]\n",
            "Sample 14 Predicted Labels: [1.0, 0.0, 1.0, 0.0, 1.0]\n",
            "Sample 15 Predicted Labels: [0.0, 0.0, 1.0, 0.0, 1.0]\n",
            "Sample 16 Predicted Labels: [0.0, 1.0, 0.0, 0.0, 0.0]\n",
            "Sample 17 Predicted Labels: [0.0, 0.0, 1.0, 0.0, 1.0]\n",
            "Sample 18 Predicted Labels: [0.0, 1.0, 0.0, 0.0, 0.0]\n",
            "Sample 19 Predicted Labels: [0.0, 1.0, 0.0, 0.0, 0.0]\n",
            "Sample 20 Predicted Labels: [0.0, 1.0, 0.0, 0.0, 0.0]\n"
          ]
        }
      ]
    },
    {
      "cell_type": "code",
      "source": [
        "label_mapping = {0: 'cs.AI', 1: 'cs.CV', 2: 'cs.LG', 3: 'eess.IV', 4: 'stats.ML'}\n",
        "\n",
        "for i in range(min(20, y_test.shape[0])):\n",
        "    actual_labels = [label_mapping[j] for j in range(y_test.shape[1]) if y_test[i, j] == 1]\n",
        "    predicted_labels = [label_mapping[j] for j in range(y_pred_dense.shape[1]) if y_pred_dense[i, j] == 1]\n",
        "    print(\"Sample\", i+1)\n",
        "    print(\"Actual Labels:\", actual_labels)\n",
        "    print(\"Predicted Labels:\", predicted_labels)\n",
        "    print()"
      ],
      "metadata": {
        "colab": {
          "base_uri": "https://localhost:8080/"
        },
        "id": "X9W-wR2qNK_2",
        "outputId": "9248a7a9-1a85-4bde-f737-ece16ac2ce8b"
      },
      "execution_count": null,
      "outputs": [
        {
          "output_type": "stream",
          "name": "stdout",
          "text": [
            "Sample 1\n",
            "Actual Labels: ['cs.LG', 'stats.ML']\n",
            "Predicted Labels: ['cs.LG', 'stats.ML']\n",
            "\n",
            "Sample 2\n",
            "Actual Labels: ['cs.CV']\n",
            "Predicted Labels: ['cs.CV']\n",
            "\n",
            "Sample 3\n",
            "Actual Labels: ['cs.AI', 'cs.LG', 'stats.ML']\n",
            "Predicted Labels: ['cs.LG', 'stats.ML']\n",
            "\n",
            "Sample 4\n",
            "Actual Labels: ['cs.CV']\n",
            "Predicted Labels: ['cs.CV']\n",
            "\n",
            "Sample 5\n",
            "Actual Labels: ['cs.CV', 'eess.IV']\n",
            "Predicted Labels: ['cs.CV']\n",
            "\n",
            "Sample 6\n",
            "Actual Labels: ['cs.CV']\n",
            "Predicted Labels: ['cs.CV']\n",
            "\n",
            "Sample 7\n",
            "Actual Labels: ['cs.LG']\n",
            "Predicted Labels: ['cs.LG', 'stats.ML']\n",
            "\n",
            "Sample 8\n",
            "Actual Labels: ['cs.CV']\n",
            "Predicted Labels: ['cs.CV']\n",
            "\n",
            "Sample 9\n",
            "Actual Labels: ['cs.LG', 'stats.ML']\n",
            "Predicted Labels: ['cs.LG', 'stats.ML']\n",
            "\n",
            "Sample 10\n",
            "Actual Labels: ['cs.CV']\n",
            "Predicted Labels: ['cs.CV']\n",
            "\n",
            "Sample 11\n",
            "Actual Labels: ['cs.CV', 'cs.LG']\n",
            "Predicted Labels: ['cs.CV']\n",
            "\n",
            "Sample 12\n",
            "Actual Labels: ['cs.CV', 'cs.LG', 'stats.ML']\n",
            "Predicted Labels: ['cs.LG', 'stats.ML']\n",
            "\n",
            "Sample 13\n",
            "Actual Labels: ['cs.CV']\n",
            "Predicted Labels: ['cs.CV']\n",
            "\n",
            "Sample 14\n",
            "Actual Labels: ['cs.AI', 'cs.LG', 'stats.ML']\n",
            "Predicted Labels: ['cs.AI', 'cs.LG', 'stats.ML']\n",
            "\n",
            "Sample 15\n",
            "Actual Labels: ['cs.LG', 'stats.ML']\n",
            "Predicted Labels: ['cs.LG', 'stats.ML']\n",
            "\n",
            "Sample 16\n",
            "Actual Labels: ['cs.CV']\n",
            "Predicted Labels: ['cs.CV']\n",
            "\n",
            "Sample 17\n",
            "Actual Labels: ['cs.LG', 'stats.ML']\n",
            "Predicted Labels: ['cs.LG', 'stats.ML']\n",
            "\n",
            "Sample 18\n",
            "Actual Labels: ['cs.CV']\n",
            "Predicted Labels: ['cs.CV']\n",
            "\n",
            "Sample 19\n",
            "Actual Labels: ['cs.CV']\n",
            "Predicted Labels: ['cs.CV']\n",
            "\n",
            "Sample 20\n",
            "Actual Labels: ['cs.CV']\n",
            "Predicted Labels: ['cs.CV']\n",
            "\n"
          ]
        }
      ]
    },
    {
      "cell_type": "markdown",
      "source": [
        "This model can capture more than 2 labels for an instance which is an improvement from SVC and Random Forest"
      ],
      "metadata": {
        "id": "1xMsklPFzrEf"
      }
    },
    {
      "cell_type": "markdown",
      "source": [
        "### Model Evaluation\n",
        "\n",
        "1) ROC Curve\n",
        "\n",
        "2) Balanced overall accuracy and F1 score\n",
        "\n",
        "3) Confusion matrix for each label"
      ],
      "metadata": {
        "id": "LnAYSZvS0TgS"
      }
    },
    {
      "cell_type": "code",
      "source": [
        "y_pred_dense = y_pred.toarray()\n",
        "\n",
        "fpr = dict()\n",
        "tpr = dict()\n",
        "roc_auc = dict()\n",
        "\n",
        "for i in range(y_test.shape[1]):\n",
        "    fpr[i], tpr[i], _ = roc_curve(y_test[:, i], y_pred_dense[:, i])\n",
        "    roc_auc[i] = auc(fpr[i], tpr[i])\n",
        "\n",
        "plt.figure(figsize=(10, 6))\n",
        "for i in range(y_test.shape[1]):\n",
        "    plt.plot(fpr[i], tpr[i], label='ROC curve of class {0} (area = {1:0.2f})'.format(i, roc_auc[i]))\n",
        "\n",
        "plt.plot([0, 1], [0, 1], 'k--', lw=2)\n",
        "plt.xlim([0.0, 1.0])\n",
        "plt.ylim([0.0, 1.05])\n",
        "plt.xlabel('False Positive Rate')\n",
        "plt.ylabel('True Positive Rate')\n",
        "plt.title('Receiver Operating Characteristic (ROC) Curve')\n",
        "plt.legend(loc=\"lower right\")\n",
        "plt.show()"
      ],
      "metadata": {
        "colab": {
          "base_uri": "https://localhost:8080/",
          "height": 564
        },
        "id": "WhqE2snxLEHB",
        "outputId": "d23c7684-9c8b-4ec9-f3d7-ba692a4b99b9"
      },
      "execution_count": null,
      "outputs": [
        {
          "output_type": "display_data",
          "data": {
            "text/plain": [
              "<Figure size 1000x600 with 1 Axes>"
            ],
            "image/png": "[encoded data removed]"
          },
          "metadata": {}
        }
      ]
    },
    {
      "cell_type": "code",
      "source": [
        "balanced_acc_scores = []\n",
        "for i in range(y_test.shape[1]):\n",
        "    balanced_acc_scores.append(accuracy_score(y_test[:, i], y_pred_dense[:, i]))\n",
        "\n",
        "average_balanced_acc_score = np.mean(balanced_acc_scores)\n",
        "\n",
        "print(\"Average Balanced Accuracy Score:\", average_balanced_acc_score)"
      ],
      "metadata": {
        "colab": {
          "base_uri": "https://localhost:8080/"
        },
        "id": "A4jor5MsL1t9",
        "outputId": "6b125a19-ef7d-4a6f-d4d3-89cd46c530ef"
      },
      "execution_count": null,
      "outputs": [
        {
          "output_type": "stream",
          "name": "stdout",
          "text": [
            "Average Balanced Accuracy Score: 0.8652605459057072\n"
          ]
        }
      ]
    },
    {
      "cell_type": "code",
      "source": [
        "f1_scores = []\n",
        "for i in range(y_test.shape[1]):\n",
        "    f1_scores.append(f1_score(y_test[:, i], y_pred_dense[:, i]))\n",
        "\n",
        "average_f1_score = np.mean(f1_scores)\n",
        "\n",
        "print(\"Average F1 Score:\", average_f1_score)"
      ],
      "metadata": {
        "colab": {
          "base_uri": "https://localhost:8080/"
        },
        "id": "7PyuyLvUL5jz",
        "outputId": "d9097eb8-d155-4644-8169-c5a1bd59b93b"
      },
      "execution_count": null,
      "outputs": [
        {
          "output_type": "stream",
          "name": "stdout",
          "text": [
            "Average F1 Score: 0.5171563683057947\n"
          ]
        }
      ]
    },
    {
      "cell_type": "code",
      "source": [
        "conf_matrices = []\n",
        "\n",
        "for i in range(y_test.shape[1]):\n",
        "    conf_matrices.append(confusion_matrix(y_test[:, i], y_pred_dense[:, i]))\n",
        "\n",
        "for i, conf_matrix in enumerate(conf_matrices):\n",
        "    print(\"Confusion Matrix for Label\", i)\n",
        "    print(conf_matrix)\n",
        "\n",
        "for i, conf_matrix in enumerate(conf_matrices):\n",
        "    tn, fp, fn, tp = conf_matrix.ravel()\n",
        "    print(\"For Label\", i)\n",
        "    print(\"True Positives (TP):\", tp)\n",
        "    print(\"False Positives (FP):\", fp)\n",
        "    print(\"True Negatives (TN):\", tn)\n",
        "    print(\"False Negatives (FN):\", fn)\n",
        "    print()"
      ],
      "metadata": {
        "colab": {
          "base_uri": "https://localhost:8080/"
        },
        "id": "nJKzG3jbNs5I",
        "outputId": "6663ba05-be3c-471f-9529-7564be2fe588"
      },
      "execution_count": null,
      "outputs": [
        {
          "output_type": "stream",
          "name": "stdout",
          "text": [
            "Confusion Matrix for Label 0\n",
            "[[4789   90]\n",
            " [ 666   97]]\n",
            "Confusion Matrix for Label 1\n",
            "[[1790  259]\n",
            " [ 343 3250]]\n",
            "Confusion Matrix for Label 2\n",
            "[[2600  215]\n",
            " [ 759 2068]]\n",
            "Confusion Matrix for Label 3\n",
            "[[5349    1]\n",
            " [ 292    0]]\n",
            "Confusion Matrix for Label 4\n",
            "[[3340  676]\n",
            " [ 500 1126]]\n",
            "For Label 0\n",
            "True Positives (TP): 97\n",
            "False Positives (FP): 90\n",
            "True Negatives (TN): 4789\n",
            "False Negatives (FN): 666\n",
            "\n",
            "For Label 1\n",
            "True Positives (TP): 3250\n",
            "False Positives (FP): 259\n",
            "True Negatives (TN): 1790\n",
            "False Negatives (FN): 343\n",
            "\n",
            "For Label 2\n",
            "True Positives (TP): 2068\n",
            "False Positives (FP): 215\n",
            "True Negatives (TN): 2600\n",
            "False Negatives (FN): 759\n",
            "\n",
            "For Label 3\n",
            "True Positives (TP): 0\n",
            "False Positives (FP): 1\n",
            "True Negatives (TN): 5349\n",
            "False Negatives (FN): 292\n",
            "\n",
            "For Label 4\n",
            "True Positives (TP): 1126\n",
            "False Positives (FP): 676\n",
            "True Negatives (TN): 3340\n",
            "False Negatives (FN): 500\n",
            "\n"
          ]
        }
      ]
    },
    {
      "cell_type": "markdown",
      "source": [
        "**Final Note -**\n",
        "\n",
        "**Average Balanced Accuracy Score:** The model achieves an average balanced accuracy score of approximately 0.865, indicating its ability to effectively classify instances across different labels while considering class imbalance.\n",
        "\n",
        "**Average F1 Score:** The average F1 score of around 0.517 indicates a moderate balance between precision and recall across all labels.\n",
        "\n",
        "**Confusion Matrices:**\n",
        "\n",
        "**Label 0:** The model correctly identifies 97 true positives but also encounters 90 false positives and 666 false negatives.\n",
        "\n",
        "**Label 1:** It performs reasonably well with 3250 true positives and 1790 true negatives, but with 259 false positives and 343 false negatives.\n",
        "\n",
        "**Label 2:** The model shows decent performance with 2068 true positives and 2600 true negatives, while experiencing 215 false positives and 759 false negatives.\n",
        "\n",
        "**Label 3:** This label presents a challenge as it correctly identifies no true positives and only one true negative, while missing 292 true positives and having one false positive.\n",
        "\n",
        "**Label 4:** The model exhibits fair performance here, achieving 1126 true positives and 3340 true negatives, with 676 false positives and 500 false negatives."
      ],
      "metadata": {
        "id": "AjlZr99D1F5M"
      }
    }
  ]
}