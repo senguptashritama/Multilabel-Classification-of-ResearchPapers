{
  "cells": [
    {
      "cell_type": "markdown",
      "metadata": {
        "id": "view-in-github",
        "colab_type": "text"
      },
      "source": [
        "<a href=\"https://colab.research.google.com/github/senguptashritama/Multilabel-Classification-of-ResearchPapers/blob/main/RF_MultiOutputClassifier.ipynb\" target=\"_parent\"><img src=\"https://colab.research.google.com/assets/colab-badge.svg\" alt=\"Open In Colab\"/></a>"
      ]
    },
    {
      "cell_type": "markdown",
      "source": [
        "### Loading required libraries and preprocessed dataset"
      ],
      "metadata": {
        "id": "MNnHyrysUc8J"
      }
    },
    {
      "cell_type": "code",
      "execution_count": null,
      "metadata": {
        "colab": {
          "base_uri": "https://localhost:8080/"
        },
        "id": "MLMX4tq8CJfH",
        "outputId": "3c1e7f48-66f2-44d9-cda9-85018c173299"
      },
      "outputs": [
        {
          "name": "stderr",
          "output_type": "stream",
          "text": [
            "[nltk_data] Downloading package punkt to /root/nltk_data...\n",
            "[nltk_data]   Package punkt is already up-to-date!\n"
          ]
        },
        {
          "data": {
            "text/plain": [
              "True"
            ]
          },
          "execution_count": 7,
          "metadata": {},
          "output_type": "execute_result"
        }
      ],
      "source": [
        "import nltk\n",
        "nltk.download('punkt')"
      ]
    },
    {
      "cell_type": "code",
      "execution_count": null,
      "metadata": {
        "colab": {
          "base_uri": "https://localhost:8080/"
        },
        "id": "hRaeiNaXBS_G",
        "outputId": "e6a169f7-9bfd-4039-cf1d-bb6e9433aa62"
      },
      "outputs": [
        {
          "name": "stdout",
          "output_type": "stream",
          "text": [
            "Collecting scikit-multilearn\n",
            "  Downloading scikit_multilearn-0.2.0-py3-none-any.whl (89 kB)\n",
            "\u001b[?25l     \u001b[90m━━━━━━━━━━━━━━━━━━━━━━━━━━━━━━━━━━━━━━━━\u001b[0m \u001b[32m0.0/89.4 kB\u001b[0m \u001b[31m?\u001b[0m eta \u001b[36m-:--:--\u001b[0m\r\u001b[2K     \u001b[90m━━━━━━━━━━━━━━━━━━━━━━━━━━━━━━━━━━━━━━━━\u001b[0m \u001b[32m89.4/89.4 kB\u001b[0m \u001b[31m3.0 MB/s\u001b[0m eta \u001b[36m0:00:00\u001b[0m\n",
            "\u001b[?25hInstalling collected packages: scikit-multilearn\n",
            "Successfully installed scikit-multilearn-0.2.0\n"
          ]
        }
      ],
      "source": [
        "! pip install scikit-multilearn"
      ]
    },
    {
      "cell_type": "code",
      "execution_count": null,
      "metadata": {
        "id": "OxsCx1-RBgcA"
      },
      "outputs": [],
      "source": [
        "import gensim\n",
        "import numpy as np\n",
        "import pandas as pd\n",
        "import matplotlib.pyplot as plt\n",
        "from gensim.models import Word2Vec\n",
        "from nltk.tokenize import word_tokenize\n",
        "from sklearn.model_selection import train_test_split\n",
        "from sklearn.ensemble import RandomForestClassifier\n",
        "from sklearn.multioutput import MultiOutputClassifier\n",
        "from sklearn.preprocessing import MultiLabelBinarizer\n",
        "from sklearn.metrics import classification_report, roc_curve, roc_auc_score, auc"
      ]
    },
    {
      "cell_type": "code",
      "execution_count": null,
      "metadata": {
        "colab": {
          "base_uri": "https://localhost:8080/"
        },
        "id": "CIrXIjknB01N",
        "outputId": "3ef95148-fee4-4b48-f3bd-08c42ffad9eb"
      },
      "outputs": [
        {
          "name": "stdout",
          "output_type": "stream",
          "text": [
            "Drive already mounted at /content/drive; to attempt to forcibly remount, call drive.mount(\"/content/drive\", force_remount=True).\n"
          ]
        }
      ],
      "source": [
        "from google.colab import drive\n",
        "drive.mount('/content/drive')"
      ]
    },
    {
      "cell_type": "code",
      "execution_count": null,
      "metadata": {
        "colab": {
          "base_uri": "https://localhost:8080/",
          "height": 206
        },
        "id": "CxzJ-LkaB437",
        "outputId": "ff5989d1-e8df-4470-8f16-0eafa0a63362"
      },
      "outputs": [
        {
          "data": {
            "application/vnd.google.colaboratory.intrinsic+json": {
              "summary": "{\n  \"name\": \"df\",\n  \"rows\": 28208,\n  \"fields\": [\n    {\n      \"column\": \"titles\",\n      \"properties\": {\n        \"dtype\": \"string\",\n        \"num_unique_values\": 28192,\n        \"samples\": [\n          \"recovery point cloud surface   application image reconstruction\",\n          \"surfacenet   adversarial svbrdf estimation single image\",\n          \"code distribute multiagent reinforcement learning\"\n        ],\n        \"semantic_type\": \"\",\n        \"description\": \"\"\n      }\n    },\n    {\n      \"column\": \"summaries\",\n      \"properties\": {\n        \"dtype\": \"string\",\n        \"num_unique_values\": 28197,\n        \"samples\": [\n          \"work propose generalpurpose   fullyconvolutional network architecture efficiently process largescale 3d datum   one strike characteristic approach ability process unorganize 3d representation point clouds input   transforming internally order structure process via 3d convolution   contrast conventional approach maintain either unorganized organize representation   input output   approach advantage operating memory efficient input datum representation time exploit natural structure convolutional operation avoid redundant computing store spatial information network   network eliminate need pre post process raw sensor datum    together fullyconvolutional nature network   make endtoend method able process point clouds huge space even entire room 200k point   another advantage network produce either order output map prediction directly onto input cloud   thus make suitable generalpurpose point cloud descriptor applicable many 3d task   demonstrate network ability effectively learn lowlevel feature well complex compositional relationship evaluate benchmark dataset semantic voxel segmentation   semantic part segmentation 3d scene captioning\",\n          \"work   study adaptive dataguide traffic planning control use reinforcement learning   rl    shift plain use classic method towards stateoftheart deep rl community   embe several recent technique algorithm improve original deep qnetwork   dqn   discrete control discuss trafficrelate interpretation follow   propose novel dqnbase algorithm traffic control   call tcdqn   tool fast reliable traffic decisionmake   introduce new form reward function discuss use illustrative example comparison traditional traffic control method\",\n          \"transfer knowledge across task improve dataefficiency one open key challenge field global blackbox optimization   readily available algorithm typically design universal optimizer   therefore   often suboptimal specific task   propose novel transfer learn method obtain customize optimizer within wellestablished framework bayesian optimization   allow algorithm utilize proven generalization capability gaussian process   use reinforcement learning metatrain acquisition function   af   set related task   propose method learn extract implicit structural information exploit improve dataefficiency   present experiment simulationtoreal transfer task well several synthetic function two hyperparameter search problem   result show algorithm   1   automatically identify structural property objective function available source task simulation    2   perform favourably setting scarse abundant source datum    3   fall back performance level general afs particular structure present\"\n        ],\n        \"semantic_type\": \"\",\n        \"description\": \"\"\n      }\n    },\n    {\n      \"column\": \"terms\",\n      \"properties\": {\n        \"dtype\": \"category\",\n        \"num_unique_values\": 38,\n        \"samples\": [\n          \"['stat.ML', 'cs.AI']\",\n          \"['stat.ML', 'cs.LG', 'eess.IV']\",\n          \"['cs.CV', 'cs.LG', 'eess.IV']\"\n        ],\n        \"semantic_type\": \"\",\n        \"description\": \"\"\n      }\n    }\n  ]\n}",
              "type": "dataframe",
              "variable_name": "df"
            },
            "text/html": [
              "\n",
              "  <div id=\"df-203b67a4-df89-4582-9980-e3e92c4e8dc5\" class=\"colab-df-container\">\n",
              "    <div>\n",
              "<style scoped>\n",
              "    .dataframe tbody tr th:only-of-type {\n",
              "        vertical-align: middle;\n",
              "    }\n",
              "\n",
              "    .dataframe tbody tr th {\n",
              "        vertical-align: top;\n",
              "    }\n",
              "\n",
              "    .dataframe thead th {\n",
              "        text-align: right;\n",
              "    }\n",
              "</style>\n",
              "<table border=\"1\" class=\"dataframe\">\n",
              "  <thead>\n",
              "    <tr style=\"text-align: right;\">\n",
              "      <th></th>\n",
              "      <th>titles</th>\n",
              "      <th>summaries</th>\n",
              "      <th>terms</th>\n",
              "    </tr>\n",
              "  </thead>\n",
              "  <tbody>\n",
              "    <tr>\n",
              "      <th>0</th>\n",
              "      <td>survey semantic stereo match   semantic depth ...</td>\n",
              "      <td>stereo match one widely use technique infer de...</td>\n",
              "      <td>['cs.CV', 'cs.LG']</td>\n",
              "    </tr>\n",
              "    <tr>\n",
              "      <th>1</th>\n",
              "      <td>futureai   guide principle consensus recommend...</td>\n",
              "      <td>recent advancement artificial intelligence   a...</td>\n",
              "      <td>['cs.CV', 'cs.AI', 'cs.LG']</td>\n",
              "    </tr>\n",
              "    <tr>\n",
              "      <th>2</th>\n",
              "      <td>enforce mutual consistency hard region semisup...</td>\n",
              "      <td>paper   propose novel mutual consistency netwo...</td>\n",
              "      <td>['cs.CV', 'cs.AI']</td>\n",
              "    </tr>\n",
              "    <tr>\n",
              "      <th>3</th>\n",
              "      <td>parameter decoupling strategy semisupervise 3d...</td>\n",
              "      <td>consistency training prove advanced semisuperv...</td>\n",
              "      <td>['cs.CV']</td>\n",
              "    </tr>\n",
              "    <tr>\n",
              "      <th>4</th>\n",
              "      <td>backgroundforeground segmentation interior sen...</td>\n",
              "      <td>ensure safety automate drive   correct percept...</td>\n",
              "      <td>['cs.CV', 'cs.LG']</td>\n",
              "    </tr>\n",
              "  </tbody>\n",
              "</table>\n",
              "</div>\n",
              "    <div class=\"colab-df-buttons\">\n",
              "\n",
              "  <div class=\"colab-df-container\">\n",
              "    <button class=\"colab-df-convert\" onclick=\"convertToInteractive('df-203b67a4-df89-4582-9980-e3e92c4e8dc5')\"\n",
              "            title=\"Convert this dataframe to an interactive table.\"\n",
              "            style=\"display:none;\">\n",
              "\n",
              "  <svg xmlns=\"http://www.w3.org/2000/svg\" height=\"24px\" viewBox=\"0 -960 960 960\">\n",
              "    <path d=\"M120-120v-720h720v720H120Zm60-500h600v-160H180v160Zm220 220h160v-160H400v160Zm0 220h160v-160H400v160ZM180-400h160v-160H180v160Zm440 0h160v-160H620v160ZM180-180h160v-160H180v160Zm440 0h160v-160H620v160Z\"/>\n",
              "  </svg>\n",
              "    </button>\n",
              "\n",
              "  <style>\n",
              "    .colab-df-container {\n",
              "      display:flex;\n",
              "      gap: 12px;\n",
              "    }\n",
              "\n",
              "    .colab-df-convert {\n",
              "      background-color: #E8F0FE;\n",
              "      border: none;\n",
              "      border-radius: 50%;\n",
              "      cursor: pointer;\n",
              "      display: none;\n",
              "      fill: #1967D2;\n",
              "      height: 32px;\n",
              "      padding: 0 0 0 0;\n",
              "      width: 32px;\n",
              "    }\n",
              "\n",
              "    .colab-df-convert:hover {\n",
              "      background-color: #E2EBFA;\n",
              "      box-shadow: 0px 1px 2px rgba(60, 64, 67, 0.3), 0px 1px 3px 1px rgba(60, 64, 67, 0.15);\n",
              "      fill: #174EA6;\n",
              "    }\n",
              "\n",
              "    .colab-df-buttons div {\n",
              "      margin-bottom: 4px;\n",
              "    }\n",
              "\n",
              "    [theme=dark] .colab-df-convert {\n",
              "      background-color: #3B4455;\n",
              "      fill: #D2E3FC;\n",
              "    }\n",
              "\n",
              "    [theme=dark] .colab-df-convert:hover {\n",
              "      background-color: #434B5C;\n",
              "      box-shadow: 0px 1px 3px 1px rgba(0, 0, 0, 0.15);\n",
              "      filter: drop-shadow(0px 1px 2px rgba(0, 0, 0, 0.3));\n",
              "      fill: #FFFFFF;\n",
              "    }\n",
              "  </style>\n",
              "\n",
              "    <script>\n",
              "      const buttonEl =\n",
              "        document.querySelector('#df-203b67a4-df89-4582-9980-e3e92c4e8dc5 button.colab-df-convert');\n",
              "      buttonEl.style.display =\n",
              "        google.colab.kernel.accessAllowed ? 'block' : 'none';\n",
              "\n",
              "      async function convertToInteractive(key) {\n",
              "        const element = document.querySelector('#df-203b67a4-df89-4582-9980-e3e92c4e8dc5');\n",
              "        const dataTable =\n",
              "          await google.colab.kernel.invokeFunction('convertToInteractive',\n",
              "                                                    [key], {});\n",
              "        if (!dataTable) return;\n",
              "\n",
              "        const docLinkHtml = 'Like what you see? Visit the ' +\n",
              "          '<a target=\"_blank\" href=https://colab.research.google.com/notebooks/data_table.ipynb>data table notebook</a>'\n",
              "          + ' to learn more about interactive tables.';\n",
              "        element.innerHTML = '';\n",
              "        dataTable['output_type'] = 'display_data';\n",
              "        await google.colab.output.renderOutput(dataTable, element);\n",
              "        const docLink = document.createElement('div');\n",
              "        docLink.innerHTML = docLinkHtml;\n",
              "        element.appendChild(docLink);\n",
              "      }\n",
              "    </script>\n",
              "  </div>\n",
              "\n",
              "\n",
              "<div id=\"df-ee8be620-f101-4520-9ab4-47cb810fa7b4\">\n",
              "  <button class=\"colab-df-quickchart\" onclick=\"quickchart('df-ee8be620-f101-4520-9ab4-47cb810fa7b4')\"\n",
              "            title=\"Suggest charts\"\n",
              "            style=\"display:none;\">\n",
              "\n",
              "<svg xmlns=\"http://www.w3.org/2000/svg\" height=\"24px\"viewBox=\"0 0 24 24\"\n",
              "     width=\"24px\">\n",
              "    <g>\n",
              "        <path d=\"M19 3H5c-1.1 0-2 .9-2 2v14c0 1.1.9 2 2 2h14c1.1 0 2-.9 2-2V5c0-1.1-.9-2-2-2zM9 17H7v-7h2v7zm4 0h-2V7h2v10zm4 0h-2v-4h2v4z\"/>\n",
              "    </g>\n",
              "</svg>\n",
              "  </button>\n",
              "\n",
              "<style>\n",
              "  .colab-df-quickchart {\n",
              "      --bg-color: #E8F0FE;\n",
              "      --fill-color: #1967D2;\n",
              "      --hover-bg-color: #E2EBFA;\n",
              "      --hover-fill-color: #174EA6;\n",
              "      --disabled-fill-color: #AAA;\n",
              "      --disabled-bg-color: #DDD;\n",
              "  }\n",
              "\n",
              "  [theme=dark] .colab-df-quickchart {\n",
              "      --bg-color: #3B4455;\n",
              "      --fill-color: #D2E3FC;\n",
              "      --hover-bg-color: #434B5C;\n",
              "      --hover-fill-color: #FFFFFF;\n",
              "      --disabled-bg-color: #3B4455;\n",
              "      --disabled-fill-color: #666;\n",
              "  }\n",
              "\n",
              "  .colab-df-quickchart {\n",
              "    background-color: var(--bg-color);\n",
              "    border: none;\n",
              "    border-radius: 50%;\n",
              "    cursor: pointer;\n",
              "    display: none;\n",
              "    fill: var(--fill-color);\n",
              "    height: 32px;\n",
              "    padding: 0;\n",
              "    width: 32px;\n",
              "  }\n",
              "\n",
              "  .colab-df-quickchart:hover {\n",
              "    background-color: var(--hover-bg-color);\n",
              "    box-shadow: 0 1px 2px rgba(60, 64, 67, 0.3), 0 1px 3px 1px rgba(60, 64, 67, 0.15);\n",
              "    fill: var(--button-hover-fill-color);\n",
              "  }\n",
              "\n",
              "  .colab-df-quickchart-complete:disabled,\n",
              "  .colab-df-quickchart-complete:disabled:hover {\n",
              "    background-color: var(--disabled-bg-color);\n",
              "    fill: var(--disabled-fill-color);\n",
              "    box-shadow: none;\n",
              "  }\n",
              "\n",
              "  .colab-df-spinner {\n",
              "    border: 2px solid var(--fill-color);\n",
              "    border-color: transparent;\n",
              "    border-bottom-color: var(--fill-color);\n",
              "    animation:\n",
              "      spin 1s steps(1) infinite;\n",
              "  }\n",
              "\n",
              "  @keyframes spin {\n",
              "    0% {\n",
              "      border-color: transparent;\n",
              "      border-bottom-color: var(--fill-color);\n",
              "      border-left-color: var(--fill-color);\n",
              "    }\n",
              "    20% {\n",
              "      border-color: transparent;\n",
              "      border-left-color: var(--fill-color);\n",
              "      border-top-color: var(--fill-color);\n",
              "    }\n",
              "    30% {\n",
              "      border-color: transparent;\n",
              "      border-left-color: var(--fill-color);\n",
              "      border-top-color: var(--fill-color);\n",
              "      border-right-color: var(--fill-color);\n",
              "    }\n",
              "    40% {\n",
              "      border-color: transparent;\n",
              "      border-right-color: var(--fill-color);\n",
              "      border-top-color: var(--fill-color);\n",
              "    }\n",
              "    60% {\n",
              "      border-color: transparent;\n",
              "      border-right-color: var(--fill-color);\n",
              "    }\n",
              "    80% {\n",
              "      border-color: transparent;\n",
              "      border-right-color: var(--fill-color);\n",
              "      border-bottom-color: var(--fill-color);\n",
              "    }\n",
              "    90% {\n",
              "      border-color: transparent;\n",
              "      border-bottom-color: var(--fill-color);\n",
              "    }\n",
              "  }\n",
              "</style>\n",
              "\n",
              "  <script>\n",
              "    async function quickchart(key) {\n",
              "      const quickchartButtonEl =\n",
              "        document.querySelector('#' + key + ' button');\n",
              "      quickchartButtonEl.disabled = true;  // To prevent multiple clicks.\n",
              "      quickchartButtonEl.classList.add('colab-df-spinner');\n",
              "      try {\n",
              "        const charts = await google.colab.kernel.invokeFunction(\n",
              "            'suggestCharts', [key], {});\n",
              "      } catch (error) {\n",
              "        console.error('Error during call to suggestCharts:', error);\n",
              "      }\n",
              "      quickchartButtonEl.classList.remove('colab-df-spinner');\n",
              "      quickchartButtonEl.classList.add('colab-df-quickchart-complete');\n",
              "    }\n",
              "    (() => {\n",
              "      let quickchartButtonEl =\n",
              "        document.querySelector('#df-ee8be620-f101-4520-9ab4-47cb810fa7b4 button');\n",
              "      quickchartButtonEl.style.display =\n",
              "        google.colab.kernel.accessAllowed ? 'block' : 'none';\n",
              "    })();\n",
              "  </script>\n",
              "</div>\n",
              "\n",
              "    </div>\n",
              "  </div>\n"
            ],
            "text/plain": [
              "                                              titles  \\\n",
              "0  survey semantic stereo match   semantic depth ...   \n",
              "1  futureai   guide principle consensus recommend...   \n",
              "2  enforce mutual consistency hard region semisup...   \n",
              "3  parameter decoupling strategy semisupervise 3d...   \n",
              "4  backgroundforeground segmentation interior sen...   \n",
              "\n",
              "                                           summaries  \\\n",
              "0  stereo match one widely use technique infer de...   \n",
              "1  recent advancement artificial intelligence   a...   \n",
              "2  paper   propose novel mutual consistency netwo...   \n",
              "3  consistency training prove advanced semisuperv...   \n",
              "4  ensure safety automate drive   correct percept...   \n",
              "\n",
              "                         terms  \n",
              "0           ['cs.CV', 'cs.LG']  \n",
              "1  ['cs.CV', 'cs.AI', 'cs.LG']  \n",
              "2           ['cs.CV', 'cs.AI']  \n",
              "3                    ['cs.CV']  \n",
              "4           ['cs.CV', 'cs.LG']  "
            ]
          },
          "execution_count": 18,
          "metadata": {},
          "output_type": "execute_result"
        }
      ],
      "source": [
        "df = pd.read_csv(\"/content/drive/MyDrive/archive (4)/filtered_data.csv\")\n",
        "df.head()"
      ]
    },
    {
      "cell_type": "markdown",
      "source": [
        "### Creating word embedding of the input text (titles and summaries) using Word2Vec"
      ],
      "metadata": {
        "id": "kV640hhWUtQw"
      }
    },
    {
      "cell_type": "code",
      "execution_count": null,
      "metadata": {
        "id": "RksFbicyC0zB"
      },
      "outputs": [],
      "source": [
        "df['text'] = df['titles'] + ' ' + df['summaries']\n",
        "\n",
        "df['tokens'] = df['text'].apply(word_tokenize)\n",
        "model = Word2Vec(sentences= df['tokens'], vector_size=100, window=5, min_count=1, sg=0)\n",
        "model.save(\"word2vec_arxiv.model\")"
      ]
    },
    {
      "cell_type": "code",
      "execution_count": null,
      "metadata": {
        "id": "aCAH39QDC05a"
      },
      "outputs": [],
      "source": [
        "word2vec_model = Word2Vec.load(\"word2vec_arxiv.model\")\n",
        "\n",
        "def text_to_vectors(text, word2vec_model):\n",
        "    words = text.split()\n",
        "    vector = np.zeros(word2vec_model.vector_size)\n",
        "    for word in words:\n",
        "        if word in word2vec_model.wv:\n",
        "            vector += word2vec_model.wv[word]\n",
        "    if np.count_nonzero(vector) == 0:\n",
        "        return vector\n",
        "    else:\n",
        "        return vector / np.linalg.norm(vector)\n",
        "\n",
        "df[\"titles\"] = df[\"titles\"].apply(lambda x: text_to_vectors(x, word2vec_model))\n",
        "df[\"summaries\"] = df[\"summaries\"].apply(lambda x: text_to_vectors(x, word2vec_model))"
      ]
    },
    {
      "cell_type": "code",
      "execution_count": null,
      "metadata": {
        "colab": {
          "base_uri": "https://localhost:8080/",
          "height": 293
        },
        "id": "phEhOl6sC1B0",
        "outputId": "4219ea50-bd3a-4913-9e66-50feb98a8686"
      },
      "outputs": [
        {
          "data": {
            "application/vnd.google.colaboratory.intrinsic+json": {
              "summary": "{\n  \"name\": \"df\",\n  \"rows\": 28208,\n  \"fields\": [\n    {\n      \"column\": \"titles\",\n      \"properties\": {\n        \"dtype\": \"object\",\n        \"semantic_type\": \"\",\n        \"description\": \"\"\n      }\n    },\n    {\n      \"column\": \"summaries\",\n      \"properties\": {\n        \"dtype\": \"object\",\n        \"semantic_type\": \"\",\n        \"description\": \"\"\n      }\n    },\n    {\n      \"column\": \"terms\",\n      \"properties\": {\n        \"dtype\": \"category\",\n        \"num_unique_values\": 38,\n        \"samples\": [\n          \"[stat.ML, cs.AI]\",\n          \"[stat.ML, cs.LG, eess.IV]\",\n          \"[cs.CV, cs.LG, eess.IV]\"\n        ],\n        \"semantic_type\": \"\",\n        \"description\": \"\"\n      }\n    },\n    {\n      \"column\": \"text\",\n      \"properties\": {\n        \"dtype\": \"string\",\n        \"num_unique_values\": 28202,\n        \"samples\": [\n          \"evaluation classification method 3d printing timeserie datum additive manufacturing present great application area machine learn vast volume datum generate potential mine datum control outcome   paper present preliminary work classify infrared timeserie datum represent meltpool temperature metal 3d printing process   ultimate objective use datum predict process outcome   eg   hardness   porosity   surface roughness    work present simply show signal datum use classification different component stage process   line machine learn research timeserie classification use knearest neighbour classifier   result present suggest dynamic time warp effective distance measure compare alternative 3d printing datum type\",\n          \"fisnet   fullimage supervise network monocular depth estimation paper address importance fullimage supervision monocular depth estimation   propose semisupervised architecture   combine unsupervised framework use image consistency supervise framework dense depth completion   latter provide fullimage depth supervision former   egomotion navigation system also embed unsupervised framework output supervision inner temporal transform network   make monocular depth estimation well   evaluation   show propose model outperform approach depth estimation\",\n          \"metalearning acquisition function transfer learn bayesian optimization transfer knowledge across task improve dataefficiency one open key challenge field global blackbox optimization   readily available algorithm typically design universal optimizer   therefore   often suboptimal specific task   propose novel transfer learn method obtain customize optimizer within wellestablished framework bayesian optimization   allow algorithm utilize proven generalization capability gaussian process   use reinforcement learning metatrain acquisition function   af   set related task   propose method learn extract implicit structural information exploit improve dataefficiency   present experiment simulationtoreal transfer task well several synthetic function two hyperparameter search problem   result show algorithm   1   automatically identify structural property objective function available source task simulation    2   perform favourably setting scarse abundant source datum    3   fall back performance level general afs particular structure present\"\n        ],\n        \"semantic_type\": \"\",\n        \"description\": \"\"\n      }\n    },\n    {\n      \"column\": \"tokens\",\n      \"properties\": {\n        \"dtype\": \"object\",\n        \"semantic_type\": \"\",\n        \"description\": \"\"\n      }\n    }\n  ]\n}",
              "type": "dataframe",
              "variable_name": "df"
            },
            "text/html": [
              "\n",
              "  <div id=\"df-e683b835-6892-4dd7-b45d-2ed751933d96\" class=\"colab-df-container\">\n",
              "    <div>\n",
              "<style scoped>\n",
              "    .dataframe tbody tr th:only-of-type {\n",
              "        vertical-align: middle;\n",
              "    }\n",
              "\n",
              "    .dataframe tbody tr th {\n",
              "        vertical-align: top;\n",
              "    }\n",
              "\n",
              "    .dataframe thead th {\n",
              "        text-align: right;\n",
              "    }\n",
              "</style>\n",
              "<table border=\"1\" class=\"dataframe\">\n",
              "  <thead>\n",
              "    <tr style=\"text-align: right;\">\n",
              "      <th></th>\n",
              "      <th>titles</th>\n",
              "      <th>summaries</th>\n",
              "      <th>terms</th>\n",
              "      <th>text</th>\n",
              "      <th>tokens</th>\n",
              "    </tr>\n",
              "  </thead>\n",
              "  <tbody>\n",
              "    <tr>\n",
              "      <th>0</th>\n",
              "      <td>[0.013574243443540721, 0.07708918240275044, 0....</td>\n",
              "      <td>[0.030916585338196533, 0.09602040885164129, 0....</td>\n",
              "      <td>[cs.CV, cs.LG]</td>\n",
              "      <td>survey semantic stereo match   semantic depth ...</td>\n",
              "      <td>[survey, semantic, stereo, match, semantic, de...</td>\n",
              "    </tr>\n",
              "    <tr>\n",
              "      <th>1</th>\n",
              "      <td>[0.033446119344201594, 0.06236873972524802, -0...</td>\n",
              "      <td>[0.05727361606840317, 0.06519551909021894, -0....</td>\n",
              "      <td>[cs.CV, cs.AI, cs.LG]</td>\n",
              "      <td>futureai   guide principle consensus recommend...</td>\n",
              "      <td>[futureai, guide, principle, consensus, recomm...</td>\n",
              "    </tr>\n",
              "    <tr>\n",
              "      <th>2</th>\n",
              "      <td>[0.06542501272223201, 0.13950005684695133, 0.1...</td>\n",
              "      <td>[0.145687038525565, 0.20666576632670872, 0.007...</td>\n",
              "      <td>[cs.CV, cs.AI]</td>\n",
              "      <td>enforce mutual consistency hard region semisup...</td>\n",
              "      <td>[enforce, mutual, consistency, hard, region, s...</td>\n",
              "    </tr>\n",
              "    <tr>\n",
              "      <th>3</th>\n",
              "      <td>[0.17026970542679618, 0.15157656237166134, -0....</td>\n",
              "      <td>[0.11560829412707188, 0.23296832022850134, 0.0...</td>\n",
              "      <td>[cs.CV]</td>\n",
              "      <td>parameter decoupling strategy semisupervise 3d...</td>\n",
              "      <td>[parameter, decoupling, strategy, semisupervis...</td>\n",
              "    </tr>\n",
              "    <tr>\n",
              "      <th>4</th>\n",
              "      <td>[0.12073854857808855, 0.00019836864067747278, ...</td>\n",
              "      <td>[0.16229060603283255, 0.12950841002963429, -0....</td>\n",
              "      <td>[cs.CV, cs.LG]</td>\n",
              "      <td>backgroundforeground segmentation interior sen...</td>\n",
              "      <td>[backgroundforeground, segmentation, interior,...</td>\n",
              "    </tr>\n",
              "  </tbody>\n",
              "</table>\n",
              "</div>\n",
              "    <div class=\"colab-df-buttons\">\n",
              "\n",
              "  <div class=\"colab-df-container\">\n",
              "    <button class=\"colab-df-convert\" onclick=\"convertToInteractive('df-e683b835-6892-4dd7-b45d-2ed751933d96')\"\n",
              "            title=\"Convert this dataframe to an interactive table.\"\n",
              "            style=\"display:none;\">\n",
              "\n",
              "  <svg xmlns=\"http://www.w3.org/2000/svg\" height=\"24px\" viewBox=\"0 -960 960 960\">\n",
              "    <path d=\"M120-120v-720h720v720H120Zm60-500h600v-160H180v160Zm220 220h160v-160H400v160Zm0 220h160v-160H400v160ZM180-400h160v-160H180v160Zm440 0h160v-160H620v160ZM180-180h160v-160H180v160Zm440 0h160v-160H620v160Z\"/>\n",
              "  </svg>\n",
              "    </button>\n",
              "\n",
              "  <style>\n",
              "    .colab-df-container {\n",
              "      display:flex;\n",
              "      gap: 12px;\n",
              "    }\n",
              "\n",
              "    .colab-df-convert {\n",
              "      background-color: #E8F0FE;\n",
              "      border: none;\n",
              "      border-radius: 50%;\n",
              "      cursor: pointer;\n",
              "      display: none;\n",
              "      fill: #1967D2;\n",
              "      height: 32px;\n",
              "      padding: 0 0 0 0;\n",
              "      width: 32px;\n",
              "    }\n",
              "\n",
              "    .colab-df-convert:hover {\n",
              "      background-color: #E2EBFA;\n",
              "      box-shadow: 0px 1px 2px rgba(60, 64, 67, 0.3), 0px 1px 3px 1px rgba(60, 64, 67, 0.15);\n",
              "      fill: #174EA6;\n",
              "    }\n",
              "\n",
              "    .colab-df-buttons div {\n",
              "      margin-bottom: 4px;\n",
              "    }\n",
              "\n",
              "    [theme=dark] .colab-df-convert {\n",
              "      background-color: #3B4455;\n",
              "      fill: #D2E3FC;\n",
              "    }\n",
              "\n",
              "    [theme=dark] .colab-df-convert:hover {\n",
              "      background-color: #434B5C;\n",
              "      box-shadow: 0px 1px 3px 1px rgba(0, 0, 0, 0.15);\n",
              "      filter: drop-shadow(0px 1px 2px rgba(0, 0, 0, 0.3));\n",
              "      fill: #FFFFFF;\n",
              "    }\n",
              "  </style>\n",
              "\n",
              "    <script>\n",
              "      const buttonEl =\n",
              "        document.querySelector('#df-e683b835-6892-4dd7-b45d-2ed751933d96 button.colab-df-convert');\n",
              "      buttonEl.style.display =\n",
              "        google.colab.kernel.accessAllowed ? 'block' : 'none';\n",
              "\n",
              "      async function convertToInteractive(key) {\n",
              "        const element = document.querySelector('#df-e683b835-6892-4dd7-b45d-2ed751933d96');\n",
              "        const dataTable =\n",
              "          await google.colab.kernel.invokeFunction('convertToInteractive',\n",
              "                                                    [key], {});\n",
              "        if (!dataTable) return;\n",
              "\n",
              "        const docLinkHtml = 'Like what you see? Visit the ' +\n",
              "          '<a target=\"_blank\" href=https://colab.research.google.com/notebooks/data_table.ipynb>data table notebook</a>'\n",
              "          + ' to learn more about interactive tables.';\n",
              "        element.innerHTML = '';\n",
              "        dataTable['output_type'] = 'display_data';\n",
              "        await google.colab.output.renderOutput(dataTable, element);\n",
              "        const docLink = document.createElement('div');\n",
              "        docLink.innerHTML = docLinkHtml;\n",
              "        element.appendChild(docLink);\n",
              "      }\n",
              "    </script>\n",
              "  </div>\n",
              "\n",
              "\n",
              "<div id=\"df-79b12f76-2b4a-43e3-a16b-c8ac2949cd8a\">\n",
              "  <button class=\"colab-df-quickchart\" onclick=\"quickchart('df-79b12f76-2b4a-43e3-a16b-c8ac2949cd8a')\"\n",
              "            title=\"Suggest charts\"\n",
              "            style=\"display:none;\">\n",
              "\n",
              "<svg xmlns=\"http://www.w3.org/2000/svg\" height=\"24px\"viewBox=\"0 0 24 24\"\n",
              "     width=\"24px\">\n",
              "    <g>\n",
              "        <path d=\"M19 3H5c-1.1 0-2 .9-2 2v14c0 1.1.9 2 2 2h14c1.1 0 2-.9 2-2V5c0-1.1-.9-2-2-2zM9 17H7v-7h2v7zm4 0h-2V7h2v10zm4 0h-2v-4h2v4z\"/>\n",
              "    </g>\n",
              "</svg>\n",
              "  </button>\n",
              "\n",
              "<style>\n",
              "  .colab-df-quickchart {\n",
              "      --bg-color: #E8F0FE;\n",
              "      --fill-color: #1967D2;\n",
              "      --hover-bg-color: #E2EBFA;\n",
              "      --hover-fill-color: #174EA6;\n",
              "      --disabled-fill-color: #AAA;\n",
              "      --disabled-bg-color: #DDD;\n",
              "  }\n",
              "\n",
              "  [theme=dark] .colab-df-quickchart {\n",
              "      --bg-color: #3B4455;\n",
              "      --fill-color: #D2E3FC;\n",
              "      --hover-bg-color: #434B5C;\n",
              "      --hover-fill-color: #FFFFFF;\n",
              "      --disabled-bg-color: #3B4455;\n",
              "      --disabled-fill-color: #666;\n",
              "  }\n",
              "\n",
              "  .colab-df-quickchart {\n",
              "    background-color: var(--bg-color);\n",
              "    border: none;\n",
              "    border-radius: 50%;\n",
              "    cursor: pointer;\n",
              "    display: none;\n",
              "    fill: var(--fill-color);\n",
              "    height: 32px;\n",
              "    padding: 0;\n",
              "    width: 32px;\n",
              "  }\n",
              "\n",
              "  .colab-df-quickchart:hover {\n",
              "    background-color: var(--hover-bg-color);\n",
              "    box-shadow: 0 1px 2px rgba(60, 64, 67, 0.3), 0 1px 3px 1px rgba(60, 64, 67, 0.15);\n",
              "    fill: var(--button-hover-fill-color);\n",
              "  }\n",
              "\n",
              "  .colab-df-quickchart-complete:disabled,\n",
              "  .colab-df-quickchart-complete:disabled:hover {\n",
              "    background-color: var(--disabled-bg-color);\n",
              "    fill: var(--disabled-fill-color);\n",
              "    box-shadow: none;\n",
              "  }\n",
              "\n",
              "  .colab-df-spinner {\n",
              "    border: 2px solid var(--fill-color);\n",
              "    border-color: transparent;\n",
              "    border-bottom-color: var(--fill-color);\n",
              "    animation:\n",
              "      spin 1s steps(1) infinite;\n",
              "  }\n",
              "\n",
              "  @keyframes spin {\n",
              "    0% {\n",
              "      border-color: transparent;\n",
              "      border-bottom-color: var(--fill-color);\n",
              "      border-left-color: var(--fill-color);\n",
              "    }\n",
              "    20% {\n",
              "      border-color: transparent;\n",
              "      border-left-color: var(--fill-color);\n",
              "      border-top-color: var(--fill-color);\n",
              "    }\n",
              "    30% {\n",
              "      border-color: transparent;\n",
              "      border-left-color: var(--fill-color);\n",
              "      border-top-color: var(--fill-color);\n",
              "      border-right-color: var(--fill-color);\n",
              "    }\n",
              "    40% {\n",
              "      border-color: transparent;\n",
              "      border-right-color: var(--fill-color);\n",
              "      border-top-color: var(--fill-color);\n",
              "    }\n",
              "    60% {\n",
              "      border-color: transparent;\n",
              "      border-right-color: var(--fill-color);\n",
              "    }\n",
              "    80% {\n",
              "      border-color: transparent;\n",
              "      border-right-color: var(--fill-color);\n",
              "      border-bottom-color: var(--fill-color);\n",
              "    }\n",
              "    90% {\n",
              "      border-color: transparent;\n",
              "      border-bottom-color: var(--fill-color);\n",
              "    }\n",
              "  }\n",
              "</style>\n",
              "\n",
              "  <script>\n",
              "    async function quickchart(key) {\n",
              "      const quickchartButtonEl =\n",
              "        document.querySelector('#' + key + ' button');\n",
              "      quickchartButtonEl.disabled = true;  // To prevent multiple clicks.\n",
              "      quickchartButtonEl.classList.add('colab-df-spinner');\n",
              "      try {\n",
              "        const charts = await google.colab.kernel.invokeFunction(\n",
              "            'suggestCharts', [key], {});\n",
              "      } catch (error) {\n",
              "        console.error('Error during call to suggestCharts:', error);\n",
              "      }\n",
              "      quickchartButtonEl.classList.remove('colab-df-spinner');\n",
              "      quickchartButtonEl.classList.add('colab-df-quickchart-complete');\n",
              "    }\n",
              "    (() => {\n",
              "      let quickchartButtonEl =\n",
              "        document.querySelector('#df-79b12f76-2b4a-43e3-a16b-c8ac2949cd8a button');\n",
              "      quickchartButtonEl.style.display =\n",
              "        google.colab.kernel.accessAllowed ? 'block' : 'none';\n",
              "    })();\n",
              "  </script>\n",
              "</div>\n",
              "\n",
              "    </div>\n",
              "  </div>\n"
            ],
            "text/plain": [
              "                                              titles  \\\n",
              "0  [0.013574243443540721, 0.07708918240275044, 0....   \n",
              "1  [0.033446119344201594, 0.06236873972524802, -0...   \n",
              "2  [0.06542501272223201, 0.13950005684695133, 0.1...   \n",
              "3  [0.17026970542679618, 0.15157656237166134, -0....   \n",
              "4  [0.12073854857808855, 0.00019836864067747278, ...   \n",
              "\n",
              "                                           summaries                  terms  \\\n",
              "0  [0.030916585338196533, 0.09602040885164129, 0....         [cs.CV, cs.LG]   \n",
              "1  [0.05727361606840317, 0.06519551909021894, -0....  [cs.CV, cs.AI, cs.LG]   \n",
              "2  [0.145687038525565, 0.20666576632670872, 0.007...         [cs.CV, cs.AI]   \n",
              "3  [0.11560829412707188, 0.23296832022850134, 0.0...                [cs.CV]   \n",
              "4  [0.16229060603283255, 0.12950841002963429, -0....         [cs.CV, cs.LG]   \n",
              "\n",
              "                                                text  \\\n",
              "0  survey semantic stereo match   semantic depth ...   \n",
              "1  futureai   guide principle consensus recommend...   \n",
              "2  enforce mutual consistency hard region semisup...   \n",
              "3  parameter decoupling strategy semisupervise 3d...   \n",
              "4  backgroundforeground segmentation interior sen...   \n",
              "\n",
              "                                              tokens  \n",
              "0  [survey, semantic, stereo, match, semantic, de...  \n",
              "1  [futureai, guide, principle, consensus, recomm...  \n",
              "2  [enforce, mutual, consistency, hard, region, s...  \n",
              "3  [parameter, decoupling, strategy, semisupervis...  \n",
              "4  [backgroundforeground, segmentation, interior,...  "
            ]
          },
          "execution_count": 22,
          "metadata": {},
          "output_type": "execute_result"
        }
      ],
      "source": [
        "df.head()"
      ]
    },
    {
      "cell_type": "markdown",
      "source": [
        "### Encoding target variable using MultilabelBinarizer"
      ],
      "metadata": {
        "id": "BjYZk858VJ1a"
      }
    },
    {
      "cell_type": "code",
      "execution_count": null,
      "metadata": {
        "id": "iIGsyxugGkXc"
      },
      "outputs": [],
      "source": [
        "df['terms'] = df['terms'].str.replace(\"'\", \"\")"
      ]
    },
    {
      "cell_type": "code",
      "execution_count": null,
      "metadata": {
        "colab": {
          "base_uri": "https://localhost:8080/"
        },
        "id": "OE9CVlo_DI5k",
        "outputId": "6d8b6cea-e1ef-40f8-97ca-4f2bd8231cc5"
      },
      "outputs": [
        {
          "name": "stdout",
          "output_type": "stream",
          "text": [
            "['cs.AI' 'cs.CV' 'cs.LG' 'eess.IV' 'stat.ML']\n"
          ]
        }
      ],
      "source": [
        "terms_split = df['terms'].str.strip('][').str.split(', ')\n",
        "mlb = MultiLabelBinarizer()\n",
        "y_encoded = pd.DataFrame(mlb.fit_transform(terms_split), columns=mlb.classes_)\n",
        "\n",
        "\n",
        "print(mlb.classes_)"
      ]
    },
    {
      "cell_type": "markdown",
      "source": [
        "### Merging the encoded columns to one dataframe"
      ],
      "metadata": {
        "id": "WWiwl89ZVksV"
      }
    },
    {
      "cell_type": "code",
      "execution_count": null,
      "metadata": {
        "id": "69U-qeI-DNie"
      },
      "outputs": [],
      "source": [
        "combined_data = pd.concat([df, y_encoded], axis=1)"
      ]
    },
    {
      "cell_type": "markdown",
      "source": [
        "### Preparing predictor variables (X) and target variables (Y) for model training"
      ],
      "metadata": {
        "id": "xA2GHqcFVWcX"
      }
    },
    {
      "cell_type": "code",
      "execution_count": null,
      "metadata": {
        "id": "jOFD5zVIDRnq"
      },
      "outputs": [],
      "source": [
        "x_data = combined_data[['titles','summaries']].values\n",
        "X =  np.array(x_data.tolist())\n",
        "X = X.reshape(X.shape[0], -1)"
      ]
    },
    {
      "cell_type": "code",
      "execution_count": null,
      "metadata": {
        "id": "2Q0AMlXYDYFF"
      },
      "outputs": [],
      "source": [
        "y_data = combined_data[['cs.AI','cs.CV','cs.LG','eess.IV','stat.ML']].values\n",
        "y =  np.array(y_data.tolist())"
      ]
    },
    {
      "cell_type": "code",
      "execution_count": null,
      "metadata": {
        "id": "3Ulc2eI9Ddc-"
      },
      "outputs": [],
      "source": [
        "# train-test split\n",
        "\n",
        "X_train, X_test, y_train, y_test = train_test_split(X, y, test_size=0.2, random_state=42)"
      ]
    },
    {
      "cell_type": "markdown",
      "source": [
        "### Calculating costs based on class frequencies"
      ],
      "metadata": {
        "id": "9GP1JtGoVyoV"
      }
    },
    {
      "cell_type": "code",
      "source": [
        "class_frequencies = y_train.mean(axis=0)\n",
        "label_costs = 1 / class_frequencies\n",
        "\n",
        "sample_weights = np.array([label_costs[label] for label in np.argmax(y_train, axis=1)])"
      ],
      "metadata": {
        "id": "4EDBoo3k5RPL"
      },
      "execution_count": null,
      "outputs": []
    },
    {
      "cell_type": "markdown",
      "source": [
        "### Model Training"
      ],
      "metadata": {
        "id": "VGRrwv-0V7RA"
      }
    },
    {
      "cell_type": "markdown",
      "source": [
        "Utilized a RandomForestClassifier from scikit-learn, then employed MultiOutputClassifier to handle multi-label classification tasks, assigning custom sample weights based on label costs for improved model training."
      ],
      "metadata": {
        "id": "g_hKuF8kVnYk"
      }
    },
    {
      "cell_type": "code",
      "execution_count": null,
      "metadata": {
        "colab": {
          "background_save": true
        },
        "id": "5icVBDh7E_xa",
        "outputId": "76e41cdd-9bb3-4b51-c319-b260f92d8068"
      },
      "outputs": [
        {
          "data": {
            "text/html": [
              "<style>#sk-container-id-1 {color: black;background-color: white;}#sk-container-id-1 pre{padding: 0;}#sk-container-id-1 div.sk-toggleable {background-color: white;}#sk-container-id-1 label.sk-toggleable__label {cursor: pointer;display: block;width: 100%;margin-bottom: 0;padding: 0.3em;box-sizing: border-box;text-align: center;}#sk-container-id-1 label.sk-toggleable__label-arrow:before {content: \"▸\";float: left;margin-right: 0.25em;color: #696969;}#sk-container-id-1 label.sk-toggleable__label-arrow:hover:before {color: black;}#sk-container-id-1 div.sk-estimator:hover label.sk-toggleable__label-arrow:before {color: black;}#sk-container-id-1 div.sk-toggleable__content {max-height: 0;max-width: 0;overflow: hidden;text-align: left;background-color: #f0f8ff;}#sk-container-id-1 div.sk-toggleable__content pre {margin: 0.2em;color: black;border-radius: 0.25em;background-color: #f0f8ff;}#sk-container-id-1 input.sk-toggleable__control:checked~div.sk-toggleable__content {max-height: 200px;max-width: 100%;overflow: auto;}#sk-container-id-1 input.sk-toggleable__control:checked~label.sk-toggleable__label-arrow:before {content: \"▾\";}#sk-container-id-1 div.sk-estimator input.sk-toggleable__control:checked~label.sk-toggleable__label {background-color: #d4ebff;}#sk-container-id-1 div.sk-label input.sk-toggleable__control:checked~label.sk-toggleable__label {background-color: #d4ebff;}#sk-container-id-1 input.sk-hidden--visually {border: 0;clip: rect(1px 1px 1px 1px);clip: rect(1px, 1px, 1px, 1px);height: 1px;margin: -1px;overflow: hidden;padding: 0;position: absolute;width: 1px;}#sk-container-id-1 div.sk-estimator {font-family: monospace;background-color: #f0f8ff;border: 1px dotted black;border-radius: 0.25em;box-sizing: border-box;margin-bottom: 0.5em;}#sk-container-id-1 div.sk-estimator:hover {background-color: #d4ebff;}#sk-container-id-1 div.sk-parallel-item::after {content: \"\";width: 100%;border-bottom: 1px solid gray;flex-grow: 1;}#sk-container-id-1 div.sk-label:hover label.sk-toggleable__label {background-color: #d4ebff;}#sk-container-id-1 div.sk-serial::before {content: \"\";position: absolute;border-left: 1px solid gray;box-sizing: border-box;top: 0;bottom: 0;left: 50%;z-index: 0;}#sk-container-id-1 div.sk-serial {display: flex;flex-direction: column;align-items: center;background-color: white;padding-right: 0.2em;padding-left: 0.2em;position: relative;}#sk-container-id-1 div.sk-item {position: relative;z-index: 1;}#sk-container-id-1 div.sk-parallel {display: flex;align-items: stretch;justify-content: center;background-color: white;position: relative;}#sk-container-id-1 div.sk-item::before, #sk-container-id-1 div.sk-parallel-item::before {content: \"\";position: absolute;border-left: 1px solid gray;box-sizing: border-box;top: 0;bottom: 0;left: 50%;z-index: -1;}#sk-container-id-1 div.sk-parallel-item {display: flex;flex-direction: column;z-index: 1;position: relative;background-color: white;}#sk-container-id-1 div.sk-parallel-item:first-child::after {align-self: flex-end;width: 50%;}#sk-container-id-1 div.sk-parallel-item:last-child::after {align-self: flex-start;width: 50%;}#sk-container-id-1 div.sk-parallel-item:only-child::after {width: 0;}#sk-container-id-1 div.sk-dashed-wrapped {border: 1px dashed gray;margin: 0 0.4em 0.5em 0.4em;box-sizing: border-box;padding-bottom: 0.4em;background-color: white;}#sk-container-id-1 div.sk-label label {font-family: monospace;font-weight: bold;display: inline-block;line-height: 1.2em;}#sk-container-id-1 div.sk-label-container {text-align: center;}#sk-container-id-1 div.sk-container {/* jupyter's `normalize.less` sets `[hidden] { display: none; }` but bootstrap.min.css set `[hidden] { display: none !important; }` so we also need the `!important` here to be able to override the default hidden behavior on the sphinx rendered scikit-learn.org. See: https://github.com/scikit-learn/scikit-learn/issues/21755 */display: inline-block !important;position: relative;}#sk-container-id-1 div.sk-text-repr-fallback {display: none;}</style><div id=\"sk-container-id-1\" class=\"sk-top-container\"><div class=\"sk-text-repr-fallback\"><pre>MultiOutputClassifier(estimator=RandomForestClassifier(random_state=42),\n",
              "                      n_jobs=-1)</pre><b>In a Jupyter environment, please rerun this cell to show the HTML representation or trust the notebook. <br />On GitHub, the HTML representation is unable to render, please try loading this page with nbviewer.org.</b></div><div class=\"sk-container\" hidden><div class=\"sk-item sk-dashed-wrapped\"><div class=\"sk-label-container\"><div class=\"sk-label sk-toggleable\"><input class=\"sk-toggleable__control sk-hidden--visually\" id=\"sk-estimator-id-1\" type=\"checkbox\" ><label for=\"sk-estimator-id-1\" class=\"sk-toggleable__label sk-toggleable__label-arrow\">MultiOutputClassifier</label><div class=\"sk-toggleable__content\"><pre>MultiOutputClassifier(estimator=RandomForestClassifier(random_state=42),\n",
              "                      n_jobs=-1)</pre></div></div></div><div class=\"sk-parallel\"><div class=\"sk-parallel-item\"><div class=\"sk-item\"><div class=\"sk-label-container\"><div class=\"sk-label sk-toggleable\"><input class=\"sk-toggleable__control sk-hidden--visually\" id=\"sk-estimator-id-2\" type=\"checkbox\" ><label for=\"sk-estimator-id-2\" class=\"sk-toggleable__label sk-toggleable__label-arrow\">estimator: RandomForestClassifier</label><div class=\"sk-toggleable__content\"><pre>RandomForestClassifier(random_state=42)</pre></div></div></div><div class=\"sk-serial\"><div class=\"sk-item\"><div class=\"sk-estimator sk-toggleable\"><input class=\"sk-toggleable__control sk-hidden--visually\" id=\"sk-estimator-id-3\" type=\"checkbox\" ><label for=\"sk-estimator-id-3\" class=\"sk-toggleable__label sk-toggleable__label-arrow\">RandomForestClassifier</label><div class=\"sk-toggleable__content\"><pre>RandomForestClassifier(random_state=42)</pre></div></div></div></div></div></div></div></div></div></div>"
            ],
            "text/plain": [
              "MultiOutputClassifier(estimator=RandomForestClassifier(random_state=42),\n",
              "                      n_jobs=-1)"
            ]
          },
          "execution_count": 29,
          "metadata": {},
          "output_type": "execute_result"
        }
      ],
      "source": [
        "base_classifier = RandomForestClassifier(n_estimators=100, random_state=42)\n",
        "\n",
        "rf_model = MultiOutputClassifier(base_classifier, n_jobs=-1)\n",
        "rf_model.fit(X_train, y_train, sample_weight=sample_weights)"
      ]
    },
    {
      "cell_type": "code",
      "execution_count": null,
      "metadata": {
        "colab": {
          "background_save": true
        },
        "id": "gTBOQ2BWFVLL"
      },
      "outputs": [],
      "source": [
        "y_pred = rf_model.predict(X_test)"
      ]
    },
    {
      "cell_type": "code",
      "execution_count": null,
      "metadata": {
        "colab": {
          "background_save": true
        },
        "id": "KOqWEMmLFZOQ",
        "outputId": "8483de8c-1c78-4ac4-cebd-31a62f501bb7"
      },
      "outputs": [
        {
          "name": "stdout",
          "output_type": "stream",
          "text": [
            "Sample 1\n",
            "Actual Labels: ['cs.LG', 'stats.ML']\n",
            "Predicted Labels: ['cs.LG']\n",
            "\n",
            "Sample 2\n",
            "Actual Labels: ['cs.CV']\n",
            "Predicted Labels: ['cs.CV']\n",
            "\n",
            "Sample 3\n",
            "Actual Labels: ['cs.AI', 'cs.LG', 'stats.ML']\n",
            "Predicted Labels: ['cs.LG', 'stats.ML']\n",
            "\n",
            "Sample 4\n",
            "Actual Labels: ['cs.CV']\n",
            "Predicted Labels: ['cs.CV']\n",
            "\n",
            "Sample 5\n",
            "Actual Labels: ['cs.CV', 'eess.IV']\n",
            "Predicted Labels: ['cs.CV']\n",
            "\n",
            "Sample 6\n",
            "Actual Labels: ['cs.CV']\n",
            "Predicted Labels: ['cs.CV']\n",
            "\n",
            "Sample 7\n",
            "Actual Labels: ['cs.LG']\n",
            "Predicted Labels: ['cs.LG', 'stats.ML']\n",
            "\n",
            "Sample 8\n",
            "Actual Labels: ['cs.CV']\n",
            "Predicted Labels: ['cs.CV']\n",
            "\n",
            "Sample 9\n",
            "Actual Labels: ['cs.LG', 'stats.ML']\n",
            "Predicted Labels: ['cs.LG', 'stats.ML']\n",
            "\n",
            "Sample 10\n",
            "Actual Labels: ['cs.CV']\n",
            "Predicted Labels: ['cs.CV']\n",
            "\n",
            "Sample 11\n",
            "Actual Labels: ['cs.CV', 'cs.LG']\n",
            "Predicted Labels: ['cs.CV']\n",
            "\n",
            "Sample 12\n",
            "Actual Labels: ['cs.CV', 'cs.LG', 'stats.ML']\n",
            "Predicted Labels: ['cs.LG', 'stats.ML']\n",
            "\n",
            "Sample 13\n",
            "Actual Labels: ['cs.CV']\n",
            "Predicted Labels: ['cs.CV']\n",
            "\n",
            "Sample 14\n",
            "Actual Labels: ['cs.AI', 'cs.LG', 'stats.ML']\n",
            "Predicted Labels: ['cs.LG', 'stats.ML']\n",
            "\n",
            "Sample 15\n",
            "Actual Labels: ['cs.LG', 'stats.ML']\n",
            "Predicted Labels: ['cs.LG', 'stats.ML']\n",
            "\n",
            "Sample 16\n",
            "Actual Labels: ['cs.CV']\n",
            "Predicted Labels: ['cs.CV']\n",
            "\n",
            "Sample 17\n",
            "Actual Labels: ['cs.LG', 'stats.ML']\n",
            "Predicted Labels: ['cs.CV']\n",
            "\n",
            "Sample 18\n",
            "Actual Labels: ['cs.CV']\n",
            "Predicted Labels: ['cs.CV']\n",
            "\n",
            "Sample 19\n",
            "Actual Labels: ['cs.CV']\n",
            "Predicted Labels: ['cs.CV']\n",
            "\n",
            "Sample 20\n",
            "Actual Labels: ['cs.CV']\n",
            "Predicted Labels: ['cs.CV']\n",
            "\n"
          ]
        }
      ],
      "source": [
        "label_mapping = {0: 'cs.AI', 1: 'cs.CV', 2: 'cs.LG', 3: 'eess.IV', 4: 'stats.ML'}\n",
        "\n",
        "for i in range(min(20, y_test.shape[0])):\n",
        "    actual_labels = [label_mapping[j] for j in range(y_test.shape[1]) if y_test[i, j] == 1]\n",
        "    predicted_labels = [label_mapping[j] for j in range(y_pred.shape[1]) if y_pred[i, j] == 1]\n",
        "    print(\"Sample\", i+1)\n",
        "    print(\"Actual Labels:\", actual_labels)\n",
        "    print(\"Predicted Labels:\", predicted_labels)\n",
        "    print()"
      ]
    },
    {
      "cell_type": "markdown",
      "source": [
        "We can see that the model can capture maximum upto 2 labels and not more just like SVC."
      ],
      "metadata": {
        "id": "DZptpL2vWsw0"
      }
    },
    {
      "cell_type": "markdown",
      "source": [
        "### Model Evaluation\n",
        "\n",
        "1) ROC Curve\n",
        "\n",
        "2) Balanced overall accuracy and F1 score\n",
        "\n",
        "3) Confusion matrix for each label"
      ],
      "metadata": {
        "id": "Rt9jUH8vW1Q1"
      }
    },
    {
      "cell_type": "code",
      "execution_count": null,
      "metadata": {
        "colab": {
          "background_save": true
        },
        "id": "RS4sXII8Fg2q",
        "outputId": "9205abfe-c447-4345-aacc-aa4e4cc81211"
      },
      "outputs": [
        {
          "data": {
            "image/png": "[encoded data removed]",
            "text/plain": [
              "<Figure size 1000x600 with 1 Axes>"
            ]
          },
          "metadata": {},
          "output_type": "display_data"
        }
      ],
      "source": [
        "# Step 1: Compute ROC curve and ROC area for each class\n",
        "fpr = dict()\n",
        "tpr = dict()\n",
        "roc_auc = dict()\n",
        "\n",
        "for i in range(y_test.shape[1]):\n",
        "    fpr[i], tpr[i], _ = roc_curve(y_test[:, i], y_pred[:, i])\n",
        "    roc_auc[i] = auc(fpr[i], tpr[i])\n",
        "\n",
        "# Step 2: Plot ROC curve for each class\n",
        "plt.figure(figsize=(10, 6))\n",
        "for i in range(y_test.shape[1]):\n",
        "    plt.plot(fpr[i], tpr[i], label='ROC curve of class {0} (area = {1:0.2f})'.format(i, roc_auc[i]))\n",
        "\n",
        "plt.plot([0, 1], [0, 1], 'k--', lw=2)\n",
        "plt.xlim([0.0, 1.0])\n",
        "plt.ylim([0.0, 1.05])\n",
        "plt.xlabel('False Positive Rate')\n",
        "plt.ylabel('True Positive Rate')\n",
        "plt.title('Receiver Operating Characteristic (ROC) Curve')\n",
        "plt.legend(loc=\"lower right\")\n",
        "plt.show()"
      ]
    },
    {
      "cell_type": "code",
      "execution_count": null,
      "metadata": {
        "colab": {
          "background_save": true
        },
        "id": "zus8IkkvFlcE",
        "outputId": "92a1879a-1e5b-41a3-d5ff-4b6089a2965a"
      },
      "outputs": [
        {
          "name": "stdout",
          "output_type": "stream",
          "text": [
            "Average Balanced Accuracy Score: 0.8759659695143567\n"
          ]
        }
      ],
      "source": [
        "from sklearn.metrics import accuracy_score\n",
        "\n",
        "# Assuming y_true contains true labels and y_pred contains predicted labels\n",
        "\n",
        "# Compute balanced accuracy score for each label\n",
        "balanced_acc_scores = []\n",
        "for i in range(y_test.shape[1]):\n",
        "    balanced_acc_scores.append(accuracy_score(y_test[:, i], y_pred[:, i]))\n",
        "\n",
        "# Compute average balanced accuracy score\n",
        "average_balanced_acc_score = np.mean(balanced_acc_scores)\n",
        "\n",
        "print(\"Average Balanced Accuracy Score:\", average_balanced_acc_score)"
      ]
    },
    {
      "cell_type": "code",
      "execution_count": null,
      "metadata": {
        "colab": {
          "background_save": true
        },
        "id": "wVYXtfzKFoob",
        "outputId": "b46289ee-8eeb-4607-ef36-af23093d0a90"
      },
      "outputs": [
        {
          "name": "stdout",
          "output_type": "stream",
          "text": [
            "Average F1 Score: 0.5099636484689146\n"
          ]
        }
      ],
      "source": [
        "from sklearn.metrics import f1_score\n",
        "\n",
        "# Compute F1 score for each label\n",
        "f1_scores = []\n",
        "for i in range(y_test.shape[1]):\n",
        "    f1_scores.append(f1_score(y_test[:, i], y_pred[:, i]))\n",
        "\n",
        "# Compute average F1 score\n",
        "average_f1_score = np.mean(f1_scores)\n",
        "\n",
        "print(\"Average F1 Score:\", average_f1_score)"
      ]
    },
    {
      "cell_type": "code",
      "source": [
        "from sklearn.metrics import confusion_matrix\n",
        "\n",
        "# Initialize variables to store the confusion matrices\n",
        "conf_matrices = []\n",
        "\n",
        "# Compute confusion matrix for each label\n",
        "for i in range(y_test.shape[1]):\n",
        "    conf_matrices.append(confusion_matrix(y_test[:, i], y_pred[:, i]))\n",
        "\n",
        "# Print confusion matrices\n",
        "for i, conf_matrix in enumerate(conf_matrices):\n",
        "    print(\"Confusion Matrix for Label\", i)\n",
        "    print(conf_matrix)\n",
        "\n",
        "# Compute TP, FP, TN, FN for each label\n",
        "for i, conf_matrix in enumerate(conf_matrices):\n",
        "    tn, fp, fn, tp = conf_matrix.ravel()\n",
        "    print(\"For Label\", i)\n",
        "    print(\"True Positives (TP):\", tp)\n",
        "    print(\"False Positives (FP):\", fp)\n",
        "    print(\"True Negatives (TN):\", tn)\n",
        "    print(\"False Negatives (FN):\", fn)\n",
        "    print()\n"
      ],
      "metadata": {
        "colab": {
          "base_uri": "https://localhost:8080/"
        },
        "id": "YQkf6UcwOtnh",
        "outputId": "a9f7cbc7-bb85-42ae-af2f-4c4454aa6ad7"
      },
      "execution_count": null,
      "outputs": [
        {
          "output_type": "stream",
          "name": "stdout",
          "text": [
            "Confusion Matrix for Label 0\n",
            "[[4830   49]\n",
            " [ 706   57]]\n",
            "Confusion Matrix for Label 1\n",
            "[[1722  327]\n",
            " [ 237 3356]]\n",
            "Confusion Matrix for Label 2\n",
            "[[2507  308]\n",
            " [ 517 2310]]\n",
            "Confusion Matrix for Label 3\n",
            "[[5350    0]\n",
            " [ 292    0]]\n",
            "Confusion Matrix for Label 4\n",
            "[[3602  414]\n",
            " [ 649  977]]\n",
            "For Label 0\n",
            "True Positives (TP): 57\n",
            "False Positives (FP): 49\n",
            "True Negatives (TN): 4830\n",
            "False Negatives (FN): 706\n",
            "\n",
            "For Label 1\n",
            "True Positives (TP): 3356\n",
            "False Positives (FP): 327\n",
            "True Negatives (TN): 1722\n",
            "False Negatives (FN): 237\n",
            "\n",
            "For Label 2\n",
            "True Positives (TP): 2310\n",
            "False Positives (FP): 308\n",
            "True Negatives (TN): 2507\n",
            "False Negatives (FN): 517\n",
            "\n",
            "For Label 3\n",
            "True Positives (TP): 0\n",
            "False Positives (FP): 0\n",
            "True Negatives (TN): 5350\n",
            "False Negatives (FN): 292\n",
            "\n",
            "For Label 4\n",
            "True Positives (TP): 977\n",
            "False Positives (FP): 414\n",
            "True Negatives (TN): 3602\n",
            "False Negatives (FN): 649\n",
            "\n"
          ]
        }
      ]
    },
    {
      "cell_type": "markdown",
      "source": [
        " The model appears to perform reasonably well. With a test accuracy of approximately 78.55%, it demonstrates a decent ability to correctly classify instances. The weighted precision, recall, and F1-score also indicate that the model maintains a good balance between correctly identifying positive and negative instances across different classes."
      ],
      "metadata": {
        "id": "wPueT2Ot6xho"
      }
    }
  ],
  "metadata": {
    "colab": {
      "provenance": [],
      "authorship_tag": "ABX9TyOXjp0vilwVpWtrvLgLOiV8",
      "include_colab_link": true
    },
    "kernelspec": {
      "display_name": "Python 3",
      "name": "python3"
    },
    "language_info": {
      "name": "python"
    }
  },
  "nbformat": 4,
  "nbformat_minor": 0
}